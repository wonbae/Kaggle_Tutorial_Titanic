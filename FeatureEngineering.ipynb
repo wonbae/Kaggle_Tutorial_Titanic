{
  "cells": [
    {
      "metadata": {
        "_uuid": "8f2839f25d086af736a60e9eeb907d3b93b6e0e5",
        "_cell_guid": "b1076dfc-b9ad-4769-8c92-a6c4dae69d19",
        "trusted": true
      },
      "cell_type": "code",
      "source": "import numpy as np\nimport pandas as pd\nfrom pandas import Series\nimport matplotlib.pyplot as plt\nimport seaborn as sns\n\nplt.style.use('seaborn')\nsns.set(font_scale=2.5) \n# 이 두줄은 본 필자가 항상 쓰는 방법입니다. matplotlib 의 기본 scheme 말고 \n# seaborn scheme 을 세팅하고, 일일이 graph 의 font size 를 지정할 필요 없이 seaborn 의 font_scale 을 사용하면 편합니다.\nimport plotly.offline as py\npy.init_notebook_mode(connected=True)\nimport plotly.graph_objs as go\nimport plotly.tools as tls\nimport missingno as msno\n\n#ignore warnings\nimport warnings\nwarnings.filterwarnings('ignore')\n\n\n\n%matplotlib inline\n\ndf_train = pd.read_csv('../input/train.csv')\ndf_test = pd.read_csv('../input/test.csv')\n\n",
      "execution_count": null,
      "outputs": []
    },
    {
      "metadata": {
        "trusted": true,
        "_uuid": "b231eb84b95149d0f2796b450a2b911b2baa140e"
      },
      "cell_type": "code",
      "source": "df_train",
      "execution_count": 15,
      "outputs": [
        {
          "output_type": "execute_result",
          "execution_count": 15,
          "data": {
            "text/plain": "     PassengerId  Survived  Pclass     ...            Cabin Embarked  FamilySize\n0              1         0       3     ...              NaN        S           2\n1              2         1       1     ...              C85        C           2\n2              3         1       3     ...              NaN        S           1\n3              4         1       1     ...             C123        S           2\n4              5         0       3     ...              NaN        S           1\n5              6         0       3     ...              NaN        Q           1\n6              7         0       1     ...              E46        S           1\n7              8         0       3     ...              NaN        S           5\n8              9         1       3     ...              NaN        S           3\n9             10         1       2     ...              NaN        C           2\n10            11         1       3     ...               G6        S           3\n11            12         1       1     ...             C103        S           1\n12            13         0       3     ...              NaN        S           1\n13            14         0       3     ...              NaN        S           7\n14            15         0       3     ...              NaN        S           1\n15            16         1       2     ...              NaN        S           1\n16            17         0       3     ...              NaN        Q           6\n17            18         1       2     ...              NaN        S           1\n18            19         0       3     ...              NaN        S           2\n19            20         1       3     ...              NaN        C           1\n20            21         0       2     ...              NaN        S           1\n21            22         1       2     ...              D56        S           1\n22            23         1       3     ...              NaN        Q           1\n23            24         1       1     ...               A6        S           1\n24            25         0       3     ...              NaN        S           5\n25            26         1       3     ...              NaN        S           7\n26            27         0       3     ...              NaN        C           1\n27            28         0       1     ...      C23 C25 C27        S           6\n28            29         1       3     ...              NaN        Q           1\n29            30         0       3     ...              NaN        S           1\n..           ...       ...     ...     ...              ...      ...         ...\n861          862         0       2     ...              NaN        S           2\n862          863         1       1     ...              D17        S           1\n863          864         0       3     ...              NaN        S          11\n864          865         0       2     ...              NaN        S           1\n865          866         1       2     ...              NaN        S           1\n866          867         1       2     ...              NaN        C           2\n867          868         0       1     ...              A24        S           1\n868          869         0       3     ...              NaN        S           1\n869          870         1       3     ...              NaN        S           3\n870          871         0       3     ...              NaN        S           1\n871          872         1       1     ...              D35        S           3\n872          873         0       1     ...      B51 B53 B55        S           1\n873          874         0       3     ...              NaN        S           1\n874          875         1       2     ...              NaN        C           2\n875          876         1       3     ...              NaN        C           1\n876          877         0       3     ...              NaN        S           1\n877          878         0       3     ...              NaN        S           1\n878          879         0       3     ...              NaN        S           1\n879          880         1       1     ...              C50        C           2\n880          881         1       2     ...              NaN        S           2\n881          882         0       3     ...              NaN        S           1\n882          883         0       3     ...              NaN        S           1\n883          884         0       2     ...              NaN        S           1\n884          885         0       3     ...              NaN        S           1\n885          886         0       3     ...              NaN        Q           6\n886          887         0       2     ...              NaN        S           1\n887          888         1       1     ...              B42        S           1\n888          889         0       3     ...              NaN        S           4\n889          890         1       1     ...             C148        C           1\n890          891         0       3     ...              NaN        Q           1\n\n[891 rows x 13 columns]",
            "text/html": "<div>\n<style scoped>\n    .dataframe tbody tr th:only-of-type {\n        vertical-align: middle;\n    }\n\n    .dataframe tbody tr th {\n        vertical-align: top;\n    }\n\n    .dataframe thead th {\n        text-align: right;\n    }\n</style>\n<table border=\"1\" class=\"dataframe\">\n  <thead>\n    <tr style=\"text-align: right;\">\n      <th></th>\n      <th>PassengerId</th>\n      <th>Survived</th>\n      <th>Pclass</th>\n      <th>Name</th>\n      <th>Sex</th>\n      <th>Age</th>\n      <th>SibSp</th>\n      <th>Parch</th>\n      <th>Ticket</th>\n      <th>Fare</th>\n      <th>Cabin</th>\n      <th>Embarked</th>\n      <th>FamilySize</th>\n    </tr>\n  </thead>\n  <tbody>\n    <tr>\n      <th>0</th>\n      <td>1</td>\n      <td>0</td>\n      <td>3</td>\n      <td>Braund, Mr. Owen Harris</td>\n      <td>male</td>\n      <td>22.0</td>\n      <td>1</td>\n      <td>0</td>\n      <td>A/5 21171</td>\n      <td>1.981001</td>\n      <td>NaN</td>\n      <td>S</td>\n      <td>2</td>\n    </tr>\n    <tr>\n      <th>1</th>\n      <td>2</td>\n      <td>1</td>\n      <td>1</td>\n      <td>Cumings, Mrs. John Bradley (Florence Briggs Th...</td>\n      <td>female</td>\n      <td>38.0</td>\n      <td>1</td>\n      <td>0</td>\n      <td>PC 17599</td>\n      <td>4.266662</td>\n      <td>C85</td>\n      <td>C</td>\n      <td>2</td>\n    </tr>\n    <tr>\n      <th>2</th>\n      <td>3</td>\n      <td>1</td>\n      <td>3</td>\n      <td>Heikkinen, Miss. Laina</td>\n      <td>female</td>\n      <td>26.0</td>\n      <td>0</td>\n      <td>0</td>\n      <td>STON/O2. 3101282</td>\n      <td>2.070022</td>\n      <td>NaN</td>\n      <td>S</td>\n      <td>1</td>\n    </tr>\n    <tr>\n      <th>3</th>\n      <td>4</td>\n      <td>1</td>\n      <td>1</td>\n      <td>Futrelle, Mrs. Jacques Heath (Lily May Peel)</td>\n      <td>female</td>\n      <td>35.0</td>\n      <td>1</td>\n      <td>0</td>\n      <td>113803</td>\n      <td>3.972177</td>\n      <td>C123</td>\n      <td>S</td>\n      <td>2</td>\n    </tr>\n    <tr>\n      <th>4</th>\n      <td>5</td>\n      <td>0</td>\n      <td>3</td>\n      <td>Allen, Mr. William Henry</td>\n      <td>male</td>\n      <td>35.0</td>\n      <td>0</td>\n      <td>0</td>\n      <td>373450</td>\n      <td>2.085672</td>\n      <td>NaN</td>\n      <td>S</td>\n      <td>1</td>\n    </tr>\n    <tr>\n      <th>5</th>\n      <td>6</td>\n      <td>0</td>\n      <td>3</td>\n      <td>Moran, Mr. James</td>\n      <td>male</td>\n      <td>NaN</td>\n      <td>0</td>\n      <td>0</td>\n      <td>330877</td>\n      <td>2.135148</td>\n      <td>NaN</td>\n      <td>Q</td>\n      <td>1</td>\n    </tr>\n    <tr>\n      <th>6</th>\n      <td>7</td>\n      <td>0</td>\n      <td>1</td>\n      <td>McCarthy, Mr. Timothy J</td>\n      <td>male</td>\n      <td>54.0</td>\n      <td>0</td>\n      <td>0</td>\n      <td>17463</td>\n      <td>3.948596</td>\n      <td>E46</td>\n      <td>S</td>\n      <td>1</td>\n    </tr>\n    <tr>\n      <th>7</th>\n      <td>8</td>\n      <td>0</td>\n      <td>3</td>\n      <td>Palsson, Master. Gosta Leonard</td>\n      <td>male</td>\n      <td>2.0</td>\n      <td>3</td>\n      <td>1</td>\n      <td>349909</td>\n      <td>3.048088</td>\n      <td>NaN</td>\n      <td>S</td>\n      <td>5</td>\n    </tr>\n    <tr>\n      <th>8</th>\n      <td>9</td>\n      <td>1</td>\n      <td>3</td>\n      <td>Johnson, Mrs. Oscar W (Elisabeth Vilhelmina Berg)</td>\n      <td>female</td>\n      <td>27.0</td>\n      <td>0</td>\n      <td>2</td>\n      <td>347742</td>\n      <td>2.409941</td>\n      <td>NaN</td>\n      <td>S</td>\n      <td>3</td>\n    </tr>\n    <tr>\n      <th>9</th>\n      <td>10</td>\n      <td>1</td>\n      <td>2</td>\n      <td>Nasser, Mrs. Nicholas (Adele Achem)</td>\n      <td>female</td>\n      <td>14.0</td>\n      <td>1</td>\n      <td>0</td>\n      <td>237736</td>\n      <td>3.403555</td>\n      <td>NaN</td>\n      <td>C</td>\n      <td>2</td>\n    </tr>\n    <tr>\n      <th>10</th>\n      <td>11</td>\n      <td>1</td>\n      <td>3</td>\n      <td>Sandstrom, Miss. Marguerite Rut</td>\n      <td>female</td>\n      <td>4.0</td>\n      <td>1</td>\n      <td>1</td>\n      <td>PP 9549</td>\n      <td>2.815409</td>\n      <td>G6</td>\n      <td>S</td>\n      <td>3</td>\n    </tr>\n    <tr>\n      <th>11</th>\n      <td>12</td>\n      <td>1</td>\n      <td>1</td>\n      <td>Bonnell, Miss. Elizabeth</td>\n      <td>female</td>\n      <td>58.0</td>\n      <td>0</td>\n      <td>0</td>\n      <td>113783</td>\n      <td>3.279030</td>\n      <td>C103</td>\n      <td>S</td>\n      <td>1</td>\n    </tr>\n    <tr>\n      <th>12</th>\n      <td>13</td>\n      <td>0</td>\n      <td>3</td>\n      <td>Saundercock, Mr. William Henry</td>\n      <td>male</td>\n      <td>20.0</td>\n      <td>0</td>\n      <td>0</td>\n      <td>A/5. 2151</td>\n      <td>2.085672</td>\n      <td>NaN</td>\n      <td>S</td>\n      <td>1</td>\n    </tr>\n    <tr>\n      <th>13</th>\n      <td>14</td>\n      <td>0</td>\n      <td>3</td>\n      <td>Andersson, Mr. Anders Johan</td>\n      <td>male</td>\n      <td>39.0</td>\n      <td>1</td>\n      <td>5</td>\n      <td>347082</td>\n      <td>3.442819</td>\n      <td>NaN</td>\n      <td>S</td>\n      <td>7</td>\n    </tr>\n    <tr>\n      <th>14</th>\n      <td>15</td>\n      <td>0</td>\n      <td>3</td>\n      <td>Vestrom, Miss. Hulda Amanda Adolfina</td>\n      <td>female</td>\n      <td>14.0</td>\n      <td>0</td>\n      <td>0</td>\n      <td>350406</td>\n      <td>2.061048</td>\n      <td>NaN</td>\n      <td>S</td>\n      <td>1</td>\n    </tr>\n    <tr>\n      <th>15</th>\n      <td>16</td>\n      <td>1</td>\n      <td>2</td>\n      <td>Hewlett, Mrs. (Mary D Kingcome)</td>\n      <td>female</td>\n      <td>55.0</td>\n      <td>0</td>\n      <td>0</td>\n      <td>248706</td>\n      <td>2.772589</td>\n      <td>NaN</td>\n      <td>S</td>\n      <td>1</td>\n    </tr>\n    <tr>\n      <th>16</th>\n      <td>17</td>\n      <td>0</td>\n      <td>3</td>\n      <td>Rice, Master. Eugene</td>\n      <td>male</td>\n      <td>2.0</td>\n      <td>4</td>\n      <td>1</td>\n      <td>382652</td>\n      <td>3.371597</td>\n      <td>NaN</td>\n      <td>Q</td>\n      <td>6</td>\n    </tr>\n    <tr>\n      <th>17</th>\n      <td>18</td>\n      <td>1</td>\n      <td>2</td>\n      <td>Williams, Mr. Charles Eugene</td>\n      <td>male</td>\n      <td>NaN</td>\n      <td>0</td>\n      <td>0</td>\n      <td>244373</td>\n      <td>2.564949</td>\n      <td>NaN</td>\n      <td>S</td>\n      <td>1</td>\n    </tr>\n    <tr>\n      <th>18</th>\n      <td>19</td>\n      <td>0</td>\n      <td>3</td>\n      <td>Vander Planke, Mrs. Julius (Emelia Maria Vande...</td>\n      <td>female</td>\n      <td>31.0</td>\n      <td>1</td>\n      <td>0</td>\n      <td>345763</td>\n      <td>2.890372</td>\n      <td>NaN</td>\n      <td>S</td>\n      <td>2</td>\n    </tr>\n    <tr>\n      <th>19</th>\n      <td>20</td>\n      <td>1</td>\n      <td>3</td>\n      <td>Masselmani, Mrs. Fatima</td>\n      <td>female</td>\n      <td>NaN</td>\n      <td>0</td>\n      <td>0</td>\n      <td>2649</td>\n      <td>1.977547</td>\n      <td>NaN</td>\n      <td>C</td>\n      <td>1</td>\n    </tr>\n    <tr>\n      <th>20</th>\n      <td>21</td>\n      <td>0</td>\n      <td>2</td>\n      <td>Fynney, Mr. Joseph J</td>\n      <td>male</td>\n      <td>35.0</td>\n      <td>0</td>\n      <td>0</td>\n      <td>239865</td>\n      <td>3.258097</td>\n      <td>NaN</td>\n      <td>S</td>\n      <td>1</td>\n    </tr>\n    <tr>\n      <th>21</th>\n      <td>22</td>\n      <td>1</td>\n      <td>2</td>\n      <td>Beesley, Mr. Lawrence</td>\n      <td>male</td>\n      <td>34.0</td>\n      <td>0</td>\n      <td>0</td>\n      <td>248698</td>\n      <td>2.564949</td>\n      <td>D56</td>\n      <td>S</td>\n      <td>1</td>\n    </tr>\n    <tr>\n      <th>22</th>\n      <td>23</td>\n      <td>1</td>\n      <td>3</td>\n      <td>McGowan, Miss. Anna \"Annie\"</td>\n      <td>female</td>\n      <td>15.0</td>\n      <td>0</td>\n      <td>0</td>\n      <td>330923</td>\n      <td>2.083085</td>\n      <td>NaN</td>\n      <td>Q</td>\n      <td>1</td>\n    </tr>\n    <tr>\n      <th>23</th>\n      <td>24</td>\n      <td>1</td>\n      <td>1</td>\n      <td>Sloper, Mr. William Thompson</td>\n      <td>male</td>\n      <td>28.0</td>\n      <td>0</td>\n      <td>0</td>\n      <td>113788</td>\n      <td>3.569533</td>\n      <td>A6</td>\n      <td>S</td>\n      <td>1</td>\n    </tr>\n    <tr>\n      <th>24</th>\n      <td>25</td>\n      <td>0</td>\n      <td>3</td>\n      <td>Palsson, Miss. Torborg Danira</td>\n      <td>female</td>\n      <td>8.0</td>\n      <td>3</td>\n      <td>1</td>\n      <td>349909</td>\n      <td>3.048088</td>\n      <td>NaN</td>\n      <td>S</td>\n      <td>5</td>\n    </tr>\n    <tr>\n      <th>25</th>\n      <td>26</td>\n      <td>1</td>\n      <td>3</td>\n      <td>Asplund, Mrs. Carl Oscar (Selma Augusta Emilia...</td>\n      <td>female</td>\n      <td>38.0</td>\n      <td>1</td>\n      <td>5</td>\n      <td>347077</td>\n      <td>3.446410</td>\n      <td>NaN</td>\n      <td>S</td>\n      <td>7</td>\n    </tr>\n    <tr>\n      <th>26</th>\n      <td>27</td>\n      <td>0</td>\n      <td>3</td>\n      <td>Emir, Mr. Farred Chehab</td>\n      <td>male</td>\n      <td>NaN</td>\n      <td>0</td>\n      <td>0</td>\n      <td>2631</td>\n      <td>1.977547</td>\n      <td>NaN</td>\n      <td>C</td>\n      <td>1</td>\n    </tr>\n    <tr>\n      <th>27</th>\n      <td>28</td>\n      <td>0</td>\n      <td>1</td>\n      <td>Fortune, Mr. Charles Alexander</td>\n      <td>male</td>\n      <td>19.0</td>\n      <td>3</td>\n      <td>2</td>\n      <td>19950</td>\n      <td>5.572154</td>\n      <td>C23 C25 C27</td>\n      <td>S</td>\n      <td>6</td>\n    </tr>\n    <tr>\n      <th>28</th>\n      <td>29</td>\n      <td>1</td>\n      <td>3</td>\n      <td>O'Dwyer, Miss. Ellen \"Nellie\"</td>\n      <td>female</td>\n      <td>NaN</td>\n      <td>0</td>\n      <td>0</td>\n      <td>330959</td>\n      <td>2.064226</td>\n      <td>NaN</td>\n      <td>Q</td>\n      <td>1</td>\n    </tr>\n    <tr>\n      <th>29</th>\n      <td>30</td>\n      <td>0</td>\n      <td>3</td>\n      <td>Todoroff, Mr. Lalio</td>\n      <td>male</td>\n      <td>NaN</td>\n      <td>0</td>\n      <td>0</td>\n      <td>349216</td>\n      <td>2.066331</td>\n      <td>NaN</td>\n      <td>S</td>\n      <td>1</td>\n    </tr>\n    <tr>\n      <th>...</th>\n      <td>...</td>\n      <td>...</td>\n      <td>...</td>\n      <td>...</td>\n      <td>...</td>\n      <td>...</td>\n      <td>...</td>\n      <td>...</td>\n      <td>...</td>\n      <td>...</td>\n      <td>...</td>\n      <td>...</td>\n      <td>...</td>\n    </tr>\n    <tr>\n      <th>861</th>\n      <td>862</td>\n      <td>0</td>\n      <td>2</td>\n      <td>Giles, Mr. Frederick Edward</td>\n      <td>male</td>\n      <td>21.0</td>\n      <td>1</td>\n      <td>0</td>\n      <td>28134</td>\n      <td>2.442347</td>\n      <td>NaN</td>\n      <td>S</td>\n      <td>2</td>\n    </tr>\n    <tr>\n      <th>862</th>\n      <td>863</td>\n      <td>1</td>\n      <td>1</td>\n      <td>Swift, Mrs. Frederick Joel (Margaret Welles Ba...</td>\n      <td>female</td>\n      <td>48.0</td>\n      <td>0</td>\n      <td>0</td>\n      <td>17466</td>\n      <td>3.255370</td>\n      <td>D17</td>\n      <td>S</td>\n      <td>1</td>\n    </tr>\n    <tr>\n      <th>863</th>\n      <td>864</td>\n      <td>0</td>\n      <td>3</td>\n      <td>Sage, Miss. Dorothy Edith \"Dolly\"</td>\n      <td>female</td>\n      <td>NaN</td>\n      <td>8</td>\n      <td>2</td>\n      <td>CA. 2343</td>\n      <td>4.242046</td>\n      <td>NaN</td>\n      <td>S</td>\n      <td>11</td>\n    </tr>\n    <tr>\n      <th>864</th>\n      <td>865</td>\n      <td>0</td>\n      <td>2</td>\n      <td>Gill, Mr. John William</td>\n      <td>male</td>\n      <td>24.0</td>\n      <td>0</td>\n      <td>0</td>\n      <td>233866</td>\n      <td>2.564949</td>\n      <td>NaN</td>\n      <td>S</td>\n      <td>1</td>\n    </tr>\n    <tr>\n      <th>865</th>\n      <td>866</td>\n      <td>1</td>\n      <td>2</td>\n      <td>Bystrom, Mrs. (Karolina)</td>\n      <td>female</td>\n      <td>42.0</td>\n      <td>0</td>\n      <td>0</td>\n      <td>236852</td>\n      <td>2.564949</td>\n      <td>NaN</td>\n      <td>S</td>\n      <td>1</td>\n    </tr>\n    <tr>\n      <th>866</th>\n      <td>867</td>\n      <td>1</td>\n      <td>2</td>\n      <td>Duran y More, Miss. Asuncion</td>\n      <td>female</td>\n      <td>27.0</td>\n      <td>1</td>\n      <td>0</td>\n      <td>SC/PARIS 2149</td>\n      <td>2.628884</td>\n      <td>NaN</td>\n      <td>C</td>\n      <td>2</td>\n    </tr>\n    <tr>\n      <th>867</th>\n      <td>868</td>\n      <td>0</td>\n      <td>1</td>\n      <td>Roebling, Mr. Washington Augustus II</td>\n      <td>male</td>\n      <td>31.0</td>\n      <td>0</td>\n      <td>0</td>\n      <td>PC 17590</td>\n      <td>3.921890</td>\n      <td>A24</td>\n      <td>S</td>\n      <td>1</td>\n    </tr>\n    <tr>\n      <th>868</th>\n      <td>869</td>\n      <td>0</td>\n      <td>3</td>\n      <td>van Melkebeke, Mr. Philemon</td>\n      <td>male</td>\n      <td>NaN</td>\n      <td>0</td>\n      <td>0</td>\n      <td>345777</td>\n      <td>2.251292</td>\n      <td>NaN</td>\n      <td>S</td>\n      <td>1</td>\n    </tr>\n    <tr>\n      <th>869</th>\n      <td>870</td>\n      <td>1</td>\n      <td>3</td>\n      <td>Johnson, Master. Harold Theodor</td>\n      <td>male</td>\n      <td>4.0</td>\n      <td>1</td>\n      <td>1</td>\n      <td>347742</td>\n      <td>2.409941</td>\n      <td>NaN</td>\n      <td>S</td>\n      <td>3</td>\n    </tr>\n    <tr>\n      <th>870</th>\n      <td>871</td>\n      <td>0</td>\n      <td>3</td>\n      <td>Balkic, Mr. Cerin</td>\n      <td>male</td>\n      <td>26.0</td>\n      <td>0</td>\n      <td>0</td>\n      <td>349248</td>\n      <td>2.066331</td>\n      <td>NaN</td>\n      <td>S</td>\n      <td>1</td>\n    </tr>\n    <tr>\n      <th>871</th>\n      <td>872</td>\n      <td>1</td>\n      <td>1</td>\n      <td>Beckwith, Mrs. Richard Leonard (Sallie Monypeny)</td>\n      <td>female</td>\n      <td>47.0</td>\n      <td>1</td>\n      <td>1</td>\n      <td>11751</td>\n      <td>3.961845</td>\n      <td>D35</td>\n      <td>S</td>\n      <td>3</td>\n    </tr>\n    <tr>\n      <th>872</th>\n      <td>873</td>\n      <td>0</td>\n      <td>1</td>\n      <td>Carlsson, Mr. Frans Olof</td>\n      <td>male</td>\n      <td>33.0</td>\n      <td>0</td>\n      <td>0</td>\n      <td>695</td>\n      <td>1.609438</td>\n      <td>B51 B53 B55</td>\n      <td>S</td>\n      <td>1</td>\n    </tr>\n    <tr>\n      <th>873</th>\n      <td>874</td>\n      <td>0</td>\n      <td>3</td>\n      <td>Vander Cruyssen, Mr. Victor</td>\n      <td>male</td>\n      <td>47.0</td>\n      <td>0</td>\n      <td>0</td>\n      <td>345765</td>\n      <td>2.197225</td>\n      <td>NaN</td>\n      <td>S</td>\n      <td>1</td>\n    </tr>\n    <tr>\n      <th>874</th>\n      <td>875</td>\n      <td>1</td>\n      <td>2</td>\n      <td>Abelson, Mrs. Samuel (Hannah Wizosky)</td>\n      <td>female</td>\n      <td>28.0</td>\n      <td>1</td>\n      <td>0</td>\n      <td>P/PP 3381</td>\n      <td>3.178054</td>\n      <td>NaN</td>\n      <td>C</td>\n      <td>2</td>\n    </tr>\n    <tr>\n      <th>875</th>\n      <td>876</td>\n      <td>1</td>\n      <td>3</td>\n      <td>Najib, Miss. Adele Kiamie \"Jane\"</td>\n      <td>female</td>\n      <td>15.0</td>\n      <td>0</td>\n      <td>0</td>\n      <td>2667</td>\n      <td>1.977547</td>\n      <td>NaN</td>\n      <td>C</td>\n      <td>1</td>\n    </tr>\n    <tr>\n      <th>876</th>\n      <td>877</td>\n      <td>0</td>\n      <td>3</td>\n      <td>Gustafsson, Mr. Alfred Ossian</td>\n      <td>male</td>\n      <td>20.0</td>\n      <td>0</td>\n      <td>0</td>\n      <td>7534</td>\n      <td>2.287045</td>\n      <td>NaN</td>\n      <td>S</td>\n      <td>1</td>\n    </tr>\n    <tr>\n      <th>877</th>\n      <td>878</td>\n      <td>0</td>\n      <td>3</td>\n      <td>Petroff, Mr. Nedelio</td>\n      <td>male</td>\n      <td>19.0</td>\n      <td>0</td>\n      <td>0</td>\n      <td>349212</td>\n      <td>2.066331</td>\n      <td>NaN</td>\n      <td>S</td>\n      <td>1</td>\n    </tr>\n    <tr>\n      <th>878</th>\n      <td>879</td>\n      <td>0</td>\n      <td>3</td>\n      <td>Laleff, Mr. Kristo</td>\n      <td>male</td>\n      <td>NaN</td>\n      <td>0</td>\n      <td>0</td>\n      <td>349217</td>\n      <td>2.066331</td>\n      <td>NaN</td>\n      <td>S</td>\n      <td>1</td>\n    </tr>\n    <tr>\n      <th>879</th>\n      <td>880</td>\n      <td>1</td>\n      <td>1</td>\n      <td>Potter, Mrs. Thomas Jr (Lily Alexenia Wilson)</td>\n      <td>female</td>\n      <td>56.0</td>\n      <td>0</td>\n      <td>1</td>\n      <td>11767</td>\n      <td>4.420746</td>\n      <td>C50</td>\n      <td>C</td>\n      <td>2</td>\n    </tr>\n    <tr>\n      <th>880</th>\n      <td>881</td>\n      <td>1</td>\n      <td>2</td>\n      <td>Shelley, Mrs. William (Imanita Parrish Hall)</td>\n      <td>female</td>\n      <td>25.0</td>\n      <td>0</td>\n      <td>1</td>\n      <td>230433</td>\n      <td>3.258097</td>\n      <td>NaN</td>\n      <td>S</td>\n      <td>2</td>\n    </tr>\n    <tr>\n      <th>881</th>\n      <td>882</td>\n      <td>0</td>\n      <td>3</td>\n      <td>Markun, Mr. Johann</td>\n      <td>male</td>\n      <td>33.0</td>\n      <td>0</td>\n      <td>0</td>\n      <td>349257</td>\n      <td>2.066331</td>\n      <td>NaN</td>\n      <td>S</td>\n      <td>1</td>\n    </tr>\n    <tr>\n      <th>882</th>\n      <td>883</td>\n      <td>0</td>\n      <td>3</td>\n      <td>Dahlberg, Miss. Gerda Ulrika</td>\n      <td>female</td>\n      <td>22.0</td>\n      <td>0</td>\n      <td>0</td>\n      <td>7552</td>\n      <td>2.352964</td>\n      <td>NaN</td>\n      <td>S</td>\n      <td>1</td>\n    </tr>\n    <tr>\n      <th>883</th>\n      <td>884</td>\n      <td>0</td>\n      <td>2</td>\n      <td>Banfield, Mr. Frederick James</td>\n      <td>male</td>\n      <td>28.0</td>\n      <td>0</td>\n      <td>0</td>\n      <td>C.A./SOTON 34068</td>\n      <td>2.351375</td>\n      <td>NaN</td>\n      <td>S</td>\n      <td>1</td>\n    </tr>\n    <tr>\n      <th>884</th>\n      <td>885</td>\n      <td>0</td>\n      <td>3</td>\n      <td>Sutehall, Mr. Henry Jr</td>\n      <td>male</td>\n      <td>25.0</td>\n      <td>0</td>\n      <td>0</td>\n      <td>SOTON/OQ 392076</td>\n      <td>1.953028</td>\n      <td>NaN</td>\n      <td>S</td>\n      <td>1</td>\n    </tr>\n    <tr>\n      <th>885</th>\n      <td>886</td>\n      <td>0</td>\n      <td>3</td>\n      <td>Rice, Mrs. William (Margaret Norton)</td>\n      <td>female</td>\n      <td>39.0</td>\n      <td>0</td>\n      <td>5</td>\n      <td>382652</td>\n      <td>3.371597</td>\n      <td>NaN</td>\n      <td>Q</td>\n      <td>6</td>\n    </tr>\n    <tr>\n      <th>886</th>\n      <td>887</td>\n      <td>0</td>\n      <td>2</td>\n      <td>Montvila, Rev. Juozas</td>\n      <td>male</td>\n      <td>27.0</td>\n      <td>0</td>\n      <td>0</td>\n      <td>211536</td>\n      <td>2.564949</td>\n      <td>NaN</td>\n      <td>S</td>\n      <td>1</td>\n    </tr>\n    <tr>\n      <th>887</th>\n      <td>888</td>\n      <td>1</td>\n      <td>1</td>\n      <td>Graham, Miss. Margaret Edith</td>\n      <td>female</td>\n      <td>19.0</td>\n      <td>0</td>\n      <td>0</td>\n      <td>112053</td>\n      <td>3.401197</td>\n      <td>B42</td>\n      <td>S</td>\n      <td>1</td>\n    </tr>\n    <tr>\n      <th>888</th>\n      <td>889</td>\n      <td>0</td>\n      <td>3</td>\n      <td>Johnston, Miss. Catherine Helen \"Carrie\"</td>\n      <td>female</td>\n      <td>NaN</td>\n      <td>1</td>\n      <td>2</td>\n      <td>W./C. 6607</td>\n      <td>3.154870</td>\n      <td>NaN</td>\n      <td>S</td>\n      <td>4</td>\n    </tr>\n    <tr>\n      <th>889</th>\n      <td>890</td>\n      <td>1</td>\n      <td>1</td>\n      <td>Behr, Mr. Karl Howell</td>\n      <td>male</td>\n      <td>26.0</td>\n      <td>0</td>\n      <td>0</td>\n      <td>111369</td>\n      <td>3.401197</td>\n      <td>C148</td>\n      <td>C</td>\n      <td>1</td>\n    </tr>\n    <tr>\n      <th>890</th>\n      <td>891</td>\n      <td>0</td>\n      <td>3</td>\n      <td>Dooley, Mr. Patrick</td>\n      <td>male</td>\n      <td>32.0</td>\n      <td>0</td>\n      <td>0</td>\n      <td>370376</td>\n      <td>2.047693</td>\n      <td>NaN</td>\n      <td>Q</td>\n      <td>1</td>\n    </tr>\n  </tbody>\n</table>\n<p>891 rows × 13 columns</p>\n</div>"
          },
          "metadata": {}
        }
      ]
    },
    {
      "metadata": {
        "trusted": true,
        "_uuid": "9e83e49f9701bed6a886b1328a79e53c6f1d66a8"
      },
      "cell_type": "code",
      "source": "for col in df_train.columns:\n    msg = 'colums: {:<10} \\t Percent of NaN value: {:2f}%'.format(col, 100 * (df_train[col].isnull().sum() / df_train[col].shape[0]))\n    print(msg)\n",
      "execution_count": null,
      "outputs": []
    },
    {
      "metadata": {
        "trusted": true,
        "_uuid": "da2b198b53713a57e90c244fb4281768ba64ea38"
      },
      "cell_type": "code",
      "source": "for col in df_test.columns:\n    msg = 'colums: {:>10} \\t Percent of NaN value: {:2f}%'.format(col, 100 * (df_test[col].isnull().sum() / df_test[col].shape[0]))\n    print(msg)\n",
      "execution_count": null,
      "outputs": []
    },
    {
      "metadata": {
        "trusted": true,
        "_uuid": "4ff072841ccd1acbafcd884f0d3e0650058d9d0d"
      },
      "cell_type": "code",
      "source": "msno.matrix(df=df_train.iloc[:, :], figsize=(8, 8), color=(0.2, 0.5, 0.2))",
      "execution_count": null,
      "outputs": []
    },
    {
      "metadata": {
        "trusted": true,
        "_uuid": "368dc9cdedb3de08622096875e27e3d87c2c7d2a"
      },
      "cell_type": "code",
      "source": "msno.bar(df=df_train.iloc[:, :], figsize=(8, 8), color=(0.2, 0.3, 0.2))",
      "execution_count": null,
      "outputs": []
    },
    {
      "metadata": {
        "trusted": true,
        "_uuid": "1f17c096805d4c42bb1cda20c7deb666adfd001c"
      },
      "cell_type": "code",
      "source": "f, ax = plt.subplots(1,2,figsize=(18,8))#도화지\n\ndf_train['Survived'].value_counts().plot.pie(explode=[0, 0.1], autopct = '%1.1f%%', ax=ax[0], shadow=True)\nax[0].set_title('Pie plot - Survived')\nax[0].set_ylabel('')\n\nsns.countplot('Survived', data = df_train, ax=ax[1])\nax[1].set_title('Count plot - Survived')\nplt.show()",
      "execution_count": null,
      "outputs": []
    },
    {
      "metadata": {
        "trusted": true,
        "_uuid": "fd6e7bd17d3901b203ff27a3a88770f31d188fa3"
      },
      "cell_type": "code",
      "source": "df_train['Survived'].value_counts().plot().pie(explode)",
      "execution_count": null,
      "outputs": []
    },
    {
      "metadata": {
        "trusted": true,
        "_uuid": "827540e5b6d65994f8fe97ccca2c94a09e091d37"
      },
      "cell_type": "code",
      "source": "plt.plot(df_train['Survived'].value_counts())",
      "execution_count": null,
      "outputs": []
    },
    {
      "metadata": {
        "trusted": true,
        "_uuid": "daf723559d8d20f37ccd8ae28d41621d52977124"
      },
      "cell_type": "markdown",
      "source": "2.1 Pclass"
    },
    {
      "metadata": {
        "trusted": true,
        "_uuid": "a093e2ce3c8981c900774f0d7d6a6a9017e2d394"
      },
      "cell_type": "code",
      "source": "df_train[['Pclass', 'Survived']].groupby(['Pclass'], as_index = True).count()",
      "execution_count": null,
      "outputs": []
    },
    {
      "metadata": {
        "trusted": true,
        "_uuid": "cda661c200e8180deb45b147393252d247d05485"
      },
      "cell_type": "code",
      "source": "df_train[['Pclass', 'Survived']].groupby(['Pclass']).sum()",
      "execution_count": null,
      "outputs": []
    },
    {
      "metadata": {
        "trusted": true,
        "_uuid": "50ed78593e8f27edd23826de628f3eb500a96db0"
      },
      "cell_type": "code",
      "source": "pd.crosstab(df_train['Pclass'], df_train[\"Survived\"], margins=True).style.background_gradient(cmap='cool')",
      "execution_count": null,
      "outputs": []
    },
    {
      "metadata": {
        "trusted": true,
        "_uuid": "96dec0ddb6f301cfe0f34a913bce3c3d3d6256d5"
      },
      "cell_type": "code",
      "source": "# df_train[['Pclass', 'Survived']].groupby(['Pclass'], as_index=True).mean().sort_values(by='Survived', ascending=False).plot().bar()",
      "execution_count": null,
      "outputs": []
    },
    {
      "metadata": {
        "trusted": true,
        "_uuid": "88ba6ee81a145af70807df9635643ff43619f827"
      },
      "cell_type": "code",
      "source": "y_position = 1.02\nf, ax = plt.subplots(1,2, figsize=(18,8))\ndf_train['Pclass'].value_counts().plot.bar(color=['#CD7F32', '#FFDF00', '#D3D3D3'], ax=ax[0])\nax[0].set_title('Number of passengers by Pclass', y = y_position)\nax[0].set_ylabel('Count')\nsns.countplot('Pclass', hue='Survived', data = df_train, ax=ax[1])\nax[1].set_title('Pclass : Survived vs Dead', y = y_position)\nplt.show()",
      "execution_count": null,
      "outputs": []
    },
    {
      "metadata": {
        "_uuid": "4a55f8296ddabd48a299a3ebac14195665f6741c"
      },
      "cell_type": "markdown",
      "source": "2.2 Sex"
    },
    {
      "metadata": {
        "trusted": true,
        "_uuid": "0a613379e213692918b3e80fce1d449e20587b9a"
      },
      "cell_type": "code",
      "source": "f, ax = plt.subplots(1,2, figsize=(18,8))\ndf_train[['Sex','Survived']].groupby(['Sex'], as_index=True).mean().plot.bar(ax=ax[0])\nax[0].set_title('Survived vs Sex')\n\nsns.countplot('Sex', hue='Survived', data = df_train, ax=ax[1])\nax[1].set_title('Sex: Survived vs Dead')\nplt.show()",
      "execution_count": null,
      "outputs": []
    },
    {
      "metadata": {
        "trusted": true,
        "_uuid": "1ed56f5df5275d6d13c9d4db33c489c7b1402e6e"
      },
      "cell_type": "code",
      "source": "pd.crosstab(df_train['Sex'], df_train['Survived'], margins=True).style.background_gradient(cmap='summer_r')",
      "execution_count": null,
      "outputs": []
    },
    {
      "metadata": {
        "_uuid": "4e39ebd2103874970e023855bf078dd944500fec"
      },
      "cell_type": "markdown",
      "source": "2.2 Both Pclass and Sex\n"
    },
    {
      "metadata": {
        "trusted": true,
        "_uuid": "907f152ef09c194de4abccdc2e0d0accae2ffa78"
      },
      "cell_type": "code",
      "source": "sns.factorplot('Pclass','Survived',hue='Sex',data = df_train, size=6, aspect=1.5)",
      "execution_count": null,
      "outputs": []
    },
    {
      "metadata": {
        "_uuid": "e3e800d815f0d26e81a2d739f19e5cb709097394"
      },
      "cell_type": "markdown",
      "source": "1. Lady first\n2. Money brings survival?"
    },
    {
      "metadata": {
        "trusted": true,
        "_uuid": "7bc98cb42be016d69367c0a9210f5689a8ec540b"
      },
      "cell_type": "code",
      "source": "sns.factorplot(x='Sex', y='Survived', col = 'Pclass', data=df_train, saturation = 5,size=9, aspect = 1)",
      "execution_count": null,
      "outputs": []
    },
    {
      "metadata": {
        "trusted": true,
        "_uuid": "04d907390d9eee722019dda9f09d5ab08ef74a7b"
      },
      "cell_type": "code",
      "source": "sns.factorplot(x='Sex', y='Survived', hue = 'Pclass', data=df_train, saturation = 5,size=9, aspect = 1)",
      "execution_count": null,
      "outputs": []
    },
    {
      "metadata": {
        "_uuid": "34d56c1ee455df4fc08d1ddfc5494227524cb15a"
      },
      "cell_type": "markdown",
      "source": "2.3. Age"
    },
    {
      "metadata": {
        "trusted": true,
        "_uuid": "d66feb9fcceeeb9f80b1beb87fc8a613a983184c"
      },
      "cell_type": "code",
      "source": "print('제일 나이 많은 탑승객 : {:.1f} years'.format(df_train['Age'].max()))\nprint('제일 어린 탑승객: {:.1f} Years'.format(df_train['Age'].min()))\nprint('탑승객 평균 나이 : {:.1f} Years'.format(df_train['Age'].mean()))",
      "execution_count": null,
      "outputs": []
    },
    {
      "metadata": {
        "trusted": true,
        "_uuid": "b344b8aec476a5e5c469cca6e73dd96718679068"
      },
      "cell_type": "code",
      "source": "fig, ax = plt.subplots(1,1,figsize=(9,5))\nsns.kdeplot(df_train[df_train['Survived'] == 1]['Age'], ax = ax)\nsns.kdeplot(df_train[df_train['Survived'] == 0]['Age'], ax = ax)\nplt.legend(['Survied == 1', 'Survived == 0'])\nplt.show()",
      "execution_count": null,
      "outputs": []
    },
    {
      "metadata": {
        "trusted": true,
        "_uuid": "12e5e373f07e69f84bc7535a1440c1a251dabde0"
      },
      "cell_type": "code",
      "source": "df_train[df_train['Survived'] == 1]['Age'].hist()",
      "execution_count": null,
      "outputs": []
    },
    {
      "metadata": {
        "trusted": true,
        "_uuid": "d4c80599081e2525005d2231fece8ffefecb7d55"
      },
      "cell_type": "code",
      "source": "sns.kdeplot(df_train[df_train['Survived'] == 1]['Age'])\nplt.show()",
      "execution_count": null,
      "outputs": []
    },
    {
      "metadata": {
        "trusted": true,
        "_uuid": "f3e0cb5ce62be97fb2ef6734ac4a89851652a5fe"
      },
      "cell_type": "code",
      "source": "f = plt.figure(figsize = (5,5))\n\nf, ax = plt.subplots(1,1,figsize=(5,5))\n\nplt.figure(figsize=(10,10))",
      "execution_count": null,
      "outputs": []
    },
    {
      "metadata": {
        "trusted": true,
        "_uuid": "a4b15281670f8aaced4cfac959df3ebf65ef3bad"
      },
      "cell_type": "code",
      "source": "f = plt.figure(figsize=(5,5))\na = np.arange(100)\nb = np.sin(a)\n\nplt.plot(b)",
      "execution_count": null,
      "outputs": []
    },
    {
      "metadata": {
        "trusted": true,
        "_uuid": "d03b9d4ce724a94ffe54ca6a914ad3bd1d17f2a2"
      },
      "cell_type": "code",
      "source": "f, ax = plt.subplots(1,1,figsize=(5,5))\na = np.arange(100)\nb = np.sin(a)\n\nax.plot(b)",
      "execution_count": null,
      "outputs": []
    },
    {
      "metadata": {
        "trusted": true,
        "_uuid": "aa960698741c16617ed329ec7ec1c59064ac7af2"
      },
      "cell_type": "code",
      "source": "plt.figure(figsize=(5,5))\na = np.arange(100)\nb = np.sin(a)\n\nplt.plot(b)",
      "execution_count": null,
      "outputs": []
    },
    {
      "metadata": {
        "trusted": true,
        "_uuid": "472ad96c8cc3c1a84f6b083c61c09281fd038117"
      },
      "cell_type": "code",
      "source": "plt.figure(figsize=(8,6))\ndf_train['Age'][df_train['Pclass'] == 1].plot(kind = 'kde')\ndf_train['Age'][df_train['Pclass'] == 2].plot(kind = 'kde')\ndf_train['Age'][df_train['Pclass'] == 3].plot(kind = 'kde')\n\nplt.xlabel('Age')\nplt.title('Age Distribution within classes')\nplt.legend(['1st Class','2nd Class','3rd Class'])",
      "execution_count": null,
      "outputs": []
    },
    {
      "metadata": {
        "trusted": true,
        "_uuid": "7e11d187b1a2443f21bb5c822288fe4be58dfc04"
      },
      "cell_type": "code",
      "source": "fig, ax = plt.subplots(1,1,figsize=(9,5))\nsns.kdeplot(df_train[(df_train['Survived'] == 0) & (df_train['Pclass'] == 1)]['Age'], ax = ax)\nsns.kdeplot(df_train[(df_train['Survived'] == 1) & (df_train['Pclass'] == 1)]['Age'], ax = ax)\nplt.legend(['Survied == 0', 'Survived == 1'])\nplt.show()\n",
      "execution_count": null,
      "outputs": []
    },
    {
      "metadata": {
        "trusted": true,
        "_uuid": "6ab73586a0d7fd6c97c6434c8e53eacd6cddcdd9"
      },
      "cell_type": "code",
      "source": "fig, ax = plt.subplots(1,1,figsize=(9,5))\nsns.kdeplot(df_train[(df_train['Survived'] == 0) & (df_train['Pclass'] == 2)]['Age'], ax = ax)\nsns.kdeplot(df_train[(df_train['Survived'] == 1) & (df_train['Pclass'] == 2)]['Age'], ax = ax)\nplt.legend(['Survied == 0', 'Survived == 1'])\nplt.show()\n",
      "execution_count": null,
      "outputs": []
    },
    {
      "metadata": {
        "trusted": true,
        "_uuid": "565e4f4d646dbab1614b9497aeac0b44ef9578c7"
      },
      "cell_type": "code",
      "source": "fig, ax = plt.subplots(1,1,figsize=(9,5))\nsns.kdeplot(df_train[(df_train['Survived'] == 0) & (df_train['Pclass'] == 3)]['Age'], ax = ax)\nsns.kdeplot(df_train[(df_train['Survived'] == 1) & (df_train['Pclass'] == 3)]['Age'], ax = ax)\nplt.legend(['Survied == 0', 'Survived == 1'])\nplt.show()\n",
      "execution_count": null,
      "outputs": []
    },
    {
      "metadata": {
        "_uuid": "9b526491ea6ee4e772d11a44179797b61b6cb3e5"
      },
      "cell_type": "markdown",
      "source": "- 1~80 살 까지 (i) 생존확률의 변화"
    },
    {
      "metadata": {
        "trusted": true,
        "_uuid": "c1ada000898f04542bef5c129895feb40d509ab7"
      },
      "cell_type": "code",
      "source": "change_age_range_survival_ratio = []\n\nfor i in range(1,80):\n    change_age_range_survival_ratio.append(df_train[df_train['Age'] < i]['Survived'].sum() / len(df_train[df_train['Age'] < i]['Survived']))\n    \n\nplt.figure(figsize=(7,7))\nplt.plot(change_age_range_survival_ratio)\nplt.title('Survival rate change depending on range of Age', y=1.02)\nplt.ylabel('Survival rate')\nplt.xlabel('Range of Age(0~x)')\nplt.show()",
      "execution_count": null,
      "outputs": []
    },
    {
      "metadata": {
        "_uuid": "91a002282c364ff056558b9a40a0a8f36534e642"
      },
      "cell_type": "markdown",
      "source": "## Pclass, Sex, Age\n---\n\n"
    },
    {
      "metadata": {
        "trusted": true,
        "_uuid": "205454da705436f87fe0c847c128382f741183fd"
      },
      "cell_type": "code",
      "source": "f, ax = plt.subplots(1,2,figsize=(18,8))\nsns.violinplot('Pclass', 'Age', hue = 'Survived', data=df_train, scale=\"count\",split=True, ax=ax[0])\nax[0].set_title('Pclass and Age vs Survived')\nax[0].set_yticks(range(0,110, 10))\n\nsns.violinplot('Sex','Age',hue='Survived',data=df_train, scale='count', split=True, ax=ax[1])\nax[1].set_title('Sex and Age vs Survived')\nax[1].set_yticks(range(0,110,10))\nplt.show()",
      "execution_count": null,
      "outputs": []
    },
    {
      "metadata": {
        "trusted": true,
        "_uuid": "3051904f5ff863b24b50b91d1bca988d20f1983a"
      },
      "cell_type": "markdown",
      "source": "## Embarked\n---\n- 탑승한 곳"
    },
    {
      "metadata": {
        "trusted": true,
        "_uuid": "b52fceaac348cb778bc2d79a0788d6c3ecff36c3"
      },
      "cell_type": "code",
      "source": "f, ax = plt.subplots(1,1,figsize=(7,7))\ndf_train[['Embarked', 'Survived']].groupby(['Embarked'], as_index=True).mean().sort_values(by='Survived',ascending = False).plot.bar(ax=ax)",
      "execution_count": null,
      "outputs": []
    },
    {
      "metadata": {
        "trusted": true,
        "_uuid": "eaac6ef420e267b64264f1503300cdcc64306832"
      },
      "cell_type": "code",
      "source": "df_train[['Embarked','Survived']].groupby(['Embarked'], as_index=True).mean().sort_values(by='Survived')",
      "execution_count": null,
      "outputs": []
    },
    {
      "metadata": {
        "trusted": true,
        "_uuid": "091d53767a127c779117c5237e31ad5233c535bc"
      },
      "cell_type": "code",
      "source": "df_train[['Embarked','Survived']].groupby(['Embarked'], as_index=True).mean().sort_index()",
      "execution_count": null,
      "outputs": []
    },
    {
      "metadata": {
        "_uuid": "80c3197eb4ead701b94fc0f8c4945d4e7b410cee"
      },
      "cell_type": "markdown",
      "source": "- Embarked를 다른 Feature와 비교"
    },
    {
      "metadata": {
        "trusted": true,
        "_uuid": "e795d2408fc279702e644f92e823061ad897d62c"
      },
      "cell_type": "code",
      "source": "f, ax = plt.subplots(2,2,figsize=(20,15))\nsns.countplot('Embarked', data=df_train, ax=ax[0,0])\nax[0,0].set_title(\"(1)No. Of Passengers Boared\")\n\nsns.countplot('Embarked', hue = 'Sex', data=df_train, ax=ax[0,1])\nax[0,1].set_title(\"(2)No. Male-Female split for embarked\")\n\nsns.countplot('Embarked', hue='Survived', data=df_train, ax=ax[1,1])\nax[1,1].set_title(\"(3)No. Embarked vs Survived\")\n\nsns.countplot('Embarked', hue = 'Pclass', data=df_train, ax=ax[1,0])\nax[1,0].set_title(\"(4)No. Embarked vs Pclass\")\n\nplt.subplots_adjust(wspace=0.2, hspace=0.5)# 1행과 2행의 간격 벌려줌\n\nplt.show()",
      "execution_count": null,
      "outputs": []
    },
    {
      "metadata": {
        "trusted": true,
        "_uuid": "dbcc662223b60c7164a0064e04d07381dfa1d8a7"
      },
      "cell_type": "markdown",
      "source": "### Family - SibSp + Parch"
    },
    {
      "metadata": {
        "trusted": true,
        "_uuid": "629d9b79d14e5e21698a9e32cfa998a2f2524d82"
      },
      "cell_type": "code",
      "source": "df_train['FamilySize'] = df_train['SibSp'] + df_train['Parch'] + 1",
      "execution_count": null,
      "outputs": []
    },
    {
      "metadata": {
        "trusted": true,
        "_uuid": "b16775fb39ea0081028e98802ecf8aded794a017"
      },
      "cell_type": "code",
      "source": "print('Maximum size of Family: ', df_train['FamilySize'].max())\nprint('Maximum size of Family: ', df_train['FamilySize'].min())",
      "execution_count": null,
      "outputs": []
    },
    {
      "metadata": {
        "trusted": true,
        "_uuid": "52930c12cb61c3b4d165eb6bf2a3583b104fed77"
      },
      "cell_type": "code",
      "source": "f, ax = plt.subplots(1,3,figsize=(40,10))\nsns.countplot('FamilySize', data = df_train, ax=ax[0])\nax[0].set_title('(1)No. Of Passenger Boarded', y=1.02)\n\nsns.countplot('FamilySize', hue = 'Survived', data=df_train, ax=ax[1])\nax[1].set_title('(2) Survived countplot depending on FamilySize', y=1.02)\n\ndf_train[['FamilySize','Survived']].groupby(['FamilySize'], as_index=True).mean().sort_values(by='Survived',ascending=False).plot.bar(ax=ax[2])\nax[2].set_title('(3) Survived rate depending on FamilySize', y=1.02)\n\nplt.subplots_adjust(wspace=0.2, hspace=0.5)\nplt.show()",
      "execution_count": null,
      "outputs": []
    },
    {
      "metadata": {
        "trusted": true,
        "_uuid": "ef03b8356bc3e53221d256b458d1d28e7e70fcb1"
      },
      "cell_type": "markdown",
      "source": "### Fare"
    },
    {
      "metadata": {
        "trusted": true,
        "_uuid": "c5f4900ff3a9693057965107a0147f477dbb2bd6"
      },
      "cell_type": "code",
      "source": "fig, ax = plt.subplots(1,1,figsize=(8,8))\ng = sns.distplot(df_train['Fare'],color='b',label='Skewness:{:.2f}'.format(df_train['Fare'].skew()), ax=ax)\ng = g.legend(loc='best')",
      "execution_count": 12,
      "outputs": [
        {
          "output_type": "display_data",
          "data": {
            "text/plain": "<Figure size 576x576 with 1 Axes>",
            "image/png": "[encoded data removed]"
          },
          "metadata": {}
        }
      ]
    },
    {
      "metadata": {
        "trusted": true,
        "_uuid": "8b4d17e4a295a1337a2854ef35495ec8913e09f0"
      },
      "cell_type": "code",
      "source": "df_train['Fare'] = df_train['Fare'].map(lambda i : np.log(i) if i > 0 else 0)",
      "execution_count": 13,
      "outputs": []
    },
    {
      "metadata": {
        "trusted": true,
        "_uuid": "66d14c5fc7e25da290054cab47bcaf3ece1172d4"
      },
      "cell_type": "markdown",
      "source": "> skewness 가 0 으로 가겠금 하는 작업,  feature를 정확하게 바꾸는 작업,"
    },
    {
      "metadata": {
        "trusted": true,
        "_uuid": "b9c6b58f8200560d01024dfc5336fdcdcc96a767"
      },
      "cell_type": "code",
      "source": "fig, ax = plt.subplots(1,1,figsize=(8,8))\ng = sns.distplot(df_train['Fare'],color='b',label='Skewness:{:.2f}'.format(df_train['Fare'].skew()), ax=ax)\ng = g.legend(loc='best')",
      "execution_count": 14,
      "outputs": [
        {
          "output_type": "display_data",
          "data": {
            "text/plain": "<Figure size 576x576 with 1 Axes>",
            "image/png": "[encoded data removed]"
          },
          "metadata": {}
        }
      ]
    },
    {
      "metadata": {
        "_uuid": "b864ba3d4d9dac59e6f461b21c2fcd4bffbe7b02"
      },
      "cell_type": "markdown",
      "source": "### Ticket"
    },
    {
      "metadata": {
        "trusted": true,
        "_uuid": "6e3490fa071608d26fe25690c44f8d91f8d1cd41"
      },
      "cell_type": "code",
      "source": "df_train['Ticket'].value_counts()",
      "execution_count": 16,
      "outputs": [
        {
          "output_type": "execute_result",
          "execution_count": 16,
          "data": {
            "text/plain": "CA. 2343             7\n347082               7\n1601                 7\nCA 2144              6\n3101295              6\n347088               6\nS.O.C. 14879         5\n382652               5\n347077               4\n4133                 4\nLINE                 4\n113760               4\n2666                 4\n17421                4\n19950                4\nW./C. 6608           4\n349909               4\n113781               4\nPC 17757             4\nC.A. 34651           3\n13502                3\nPC 17582             3\n110152               3\n29106                3\n35273                3\nSC/Paris 2123        3\n248727               3\n371110               3\nPC 17572             3\n345773               3\n                    ..\n365222               1\nA4. 54510            1\n4135                 1\n113794               1\n244361               1\n2662                 1\n335677               1\nSO/C 14885           1\n323951               1\n6563                 1\n364851               1\nSTON/O 2. 3101274    1\n112053               1\n350407               1\n349227               1\n350048               1\n364848               1\n394140               1\nSTON/O 2. 3101285    1\n350047               1\n29108                1\n2693                 1\nPC 17585             1\n113514               1\n349210               1\nC 7077               1\n345572               1\n28213                1\n367232               1\n11755                1\nName: Ticket, Length: 681, dtype: int64"
          },
          "metadata": {}
        }
      ]
    },
    {
      "metadata": {
        "_uuid": "4810576c7dfa83b355ce406e5e816b611caa4b1b"
      },
      "cell_type": "markdown",
      "source": "> feature engineering이 필요한 부분, 어떤 로직으로 정리할지 생각해 보자.."
    },
    {
      "metadata": {
        "_uuid": "3c4d18ee2d32f45e0b66210e2c8a834989af30c8"
      },
      "cell_type": "markdown",
      "source": "### Feature enginering"
    },
    {
      "metadata": {
        "_uuid": "35615f708b146787b9adac16d2689f15853eb67a"
      },
      "cell_type": "markdown",
      "source": "- null data를 어떻게 처리할 것인가.."
    },
    {
      "metadata": {
        "trusted": true,
        "_uuid": "71a3ac7f3a2e11f40feda4ba7a2c29e0c8ad504e"
      },
      "cell_type": "code",
      "source": "df_train['Age'].isnull().sum()",
      "execution_count": 28,
      "outputs": [
        {
          "output_type": "execute_result",
          "execution_count": 28,
          "data": {
            "text/plain": "177"
          },
          "metadata": {}
        }
      ]
    },
    {
      "metadata": {
        "trusted": true,
        "_uuid": "9448a7651b7f18850b2f856df499dbdaba0ac108"
      },
      "cell_type": "code",
      "source": "df_train['Initial'] = df_train['Name'].str.extract('([A-Za-z]+)\\.')\ndf_test['Initial'] = df_test['Name'].str.extract('([A-Za-z]+)\\.')",
      "execution_count": 32,
      "outputs": []
    },
    {
      "metadata": {
        "trusted": true,
        "_uuid": "ca51a3072511b39da10cbb4badd362df464de1ff"
      },
      "cell_type": "code",
      "source": "# df_test.head()\ndf_train.head()",
      "execution_count": 34,
      "outputs": [
        {
          "output_type": "execute_result",
          "execution_count": 34,
          "data": {
            "text/plain": "   PassengerId  Survived  Pclass   ...    Embarked FamilySize  Initial\n0            1         0       3   ...           S          2       Mr\n1            2         1       1   ...           C          2      Mrs\n2            3         1       3   ...           S          1     Miss\n3            4         1       1   ...           S          2      Mrs\n4            5         0       3   ...           S          1       Mr\n\n[5 rows x 14 columns]",
            "text/html": "<div>\n<style scoped>\n    .dataframe tbody tr th:only-of-type {\n        vertical-align: middle;\n    }\n\n    .dataframe tbody tr th {\n        vertical-align: top;\n    }\n\n    .dataframe thead th {\n        text-align: right;\n    }\n</style>\n<table border=\"1\" class=\"dataframe\">\n  <thead>\n    <tr style=\"text-align: right;\">\n      <th></th>\n      <th>PassengerId</th>\n      <th>Survived</th>\n      <th>Pclass</th>\n      <th>Name</th>\n      <th>Sex</th>\n      <th>Age</th>\n      <th>SibSp</th>\n      <th>Parch</th>\n      <th>Ticket</th>\n      <th>Fare</th>\n      <th>Cabin</th>\n      <th>Embarked</th>\n      <th>FamilySize</th>\n      <th>Initial</th>\n    </tr>\n  </thead>\n  <tbody>\n    <tr>\n      <th>0</th>\n      <td>1</td>\n      <td>0</td>\n      <td>3</td>\n      <td>Braund, Mr. Owen Harris</td>\n      <td>male</td>\n      <td>22.0</td>\n      <td>1</td>\n      <td>0</td>\n      <td>A/5 21171</td>\n      <td>1.981001</td>\n      <td>NaN</td>\n      <td>S</td>\n      <td>2</td>\n      <td>Mr</td>\n    </tr>\n    <tr>\n      <th>1</th>\n      <td>2</td>\n      <td>1</td>\n      <td>1</td>\n      <td>Cumings, Mrs. John Bradley (Florence Briggs Th...</td>\n      <td>female</td>\n      <td>38.0</td>\n      <td>1</td>\n      <td>0</td>\n      <td>PC 17599</td>\n      <td>4.266662</td>\n      <td>C85</td>\n      <td>C</td>\n      <td>2</td>\n      <td>Mrs</td>\n    </tr>\n    <tr>\n      <th>2</th>\n      <td>3</td>\n      <td>1</td>\n      <td>3</td>\n      <td>Heikkinen, Miss. Laina</td>\n      <td>female</td>\n      <td>26.0</td>\n      <td>0</td>\n      <td>0</td>\n      <td>STON/O2. 3101282</td>\n      <td>2.070022</td>\n      <td>NaN</td>\n      <td>S</td>\n      <td>1</td>\n      <td>Miss</td>\n    </tr>\n    <tr>\n      <th>3</th>\n      <td>4</td>\n      <td>1</td>\n      <td>1</td>\n      <td>Futrelle, Mrs. Jacques Heath (Lily May Peel)</td>\n      <td>female</td>\n      <td>35.0</td>\n      <td>1</td>\n      <td>0</td>\n      <td>113803</td>\n      <td>3.972177</td>\n      <td>C123</td>\n      <td>S</td>\n      <td>2</td>\n      <td>Mrs</td>\n    </tr>\n    <tr>\n      <th>4</th>\n      <td>5</td>\n      <td>0</td>\n      <td>3</td>\n      <td>Allen, Mr. William Henry</td>\n      <td>male</td>\n      <td>35.0</td>\n      <td>0</td>\n      <td>0</td>\n      <td>373450</td>\n      <td>2.085672</td>\n      <td>NaN</td>\n      <td>S</td>\n      <td>1</td>\n      <td>Mr</td>\n    </tr>\n  </tbody>\n</table>\n</div>"
          },
          "metadata": {}
        }
      ]
    },
    {
      "metadata": {
        "trusted": true,
        "_uuid": "428ed3d28f5959f10b9fb1da887994d189de909b"
      },
      "cell_type": "code",
      "source": "pd.crosstab(df_train['Initial'], df_train['Sex']).T.style.background_gradient(cmap='summer_r')",
      "execution_count": 38,
      "outputs": [
        {
          "output_type": "execute_result",
          "execution_count": 38,
          "data": {
            "text/plain": "<pandas.io.formats.style.Styler at 0x7f37c0830ba8>",
            "text/html": "<style  type=\"text/css\" >\n    #T_3d3de9fc_4370_11e9_a5dd_0242ac130002row0_col0 {\n            background-color:  #ffff66;\n        }    #T_3d3de9fc_4370_11e9_a5dd_0242ac130002row0_col1 {\n            background-color:  #ffff66;\n        }    #T_3d3de9fc_4370_11e9_a5dd_0242ac130002row0_col2 {\n            background-color:  #008066;\n        }    #T_3d3de9fc_4370_11e9_a5dd_0242ac130002row0_col3 {\n            background-color:  #ffff66;\n        }    #T_3d3de9fc_4370_11e9_a5dd_0242ac130002row0_col4 {\n            background-color:  #ffff66;\n        }    #T_3d3de9fc_4370_11e9_a5dd_0242ac130002row0_col5 {\n            background-color:  #ffff66;\n        }    #T_3d3de9fc_4370_11e9_a5dd_0242ac130002row0_col6 {\n            background-color:  #008066;\n        }    #T_3d3de9fc_4370_11e9_a5dd_0242ac130002row0_col7 {\n            background-color:  #ffff66;\n        }    #T_3d3de9fc_4370_11e9_a5dd_0242ac130002row0_col8 {\n            background-color:  #ffff66;\n        }    #T_3d3de9fc_4370_11e9_a5dd_0242ac130002row0_col9 {\n            background-color:  #008066;\n        }    #T_3d3de9fc_4370_11e9_a5dd_0242ac130002row0_col10 {\n            background-color:  #008066;\n        }    #T_3d3de9fc_4370_11e9_a5dd_0242ac130002row0_col11 {\n            background-color:  #008066;\n        }    #T_3d3de9fc_4370_11e9_a5dd_0242ac130002row0_col12 {\n            background-color:  #ffff66;\n        }    #T_3d3de9fc_4370_11e9_a5dd_0242ac130002row0_col13 {\n            background-color:  #008066;\n        }    #T_3d3de9fc_4370_11e9_a5dd_0242ac130002row0_col14 {\n            background-color:  #008066;\n        }    #T_3d3de9fc_4370_11e9_a5dd_0242ac130002row0_col15 {\n            background-color:  #ffff66;\n        }    #T_3d3de9fc_4370_11e9_a5dd_0242ac130002row0_col16 {\n            background-color:  #ffff66;\n        }    #T_3d3de9fc_4370_11e9_a5dd_0242ac130002row1_col0 {\n            background-color:  #008066;\n        }    #T_3d3de9fc_4370_11e9_a5dd_0242ac130002row1_col1 {\n            background-color:  #008066;\n        }    #T_3d3de9fc_4370_11e9_a5dd_0242ac130002row1_col2 {\n            background-color:  #ffff66;\n        }    #T_3d3de9fc_4370_11e9_a5dd_0242ac130002row1_col3 {\n            background-color:  #008066;\n        }    #T_3d3de9fc_4370_11e9_a5dd_0242ac130002row1_col4 {\n            background-color:  #008066;\n        }    #T_3d3de9fc_4370_11e9_a5dd_0242ac130002row1_col5 {\n            background-color:  #008066;\n        }    #T_3d3de9fc_4370_11e9_a5dd_0242ac130002row1_col6 {\n            background-color:  #ffff66;\n        }    #T_3d3de9fc_4370_11e9_a5dd_0242ac130002row1_col7 {\n            background-color:  #008066;\n        }    #T_3d3de9fc_4370_11e9_a5dd_0242ac130002row1_col8 {\n            background-color:  #008066;\n        }    #T_3d3de9fc_4370_11e9_a5dd_0242ac130002row1_col9 {\n            background-color:  #ffff66;\n        }    #T_3d3de9fc_4370_11e9_a5dd_0242ac130002row1_col10 {\n            background-color:  #ffff66;\n        }    #T_3d3de9fc_4370_11e9_a5dd_0242ac130002row1_col11 {\n            background-color:  #ffff66;\n        }    #T_3d3de9fc_4370_11e9_a5dd_0242ac130002row1_col12 {\n            background-color:  #008066;\n        }    #T_3d3de9fc_4370_11e9_a5dd_0242ac130002row1_col13 {\n            background-color:  #ffff66;\n        }    #T_3d3de9fc_4370_11e9_a5dd_0242ac130002row1_col14 {\n            background-color:  #ffff66;\n        }    #T_3d3de9fc_4370_11e9_a5dd_0242ac130002row1_col15 {\n            background-color:  #008066;\n        }    #T_3d3de9fc_4370_11e9_a5dd_0242ac130002row1_col16 {\n            background-color:  #008066;\n        }</style>  \n<table id=\"T_3d3de9fc_4370_11e9_a5dd_0242ac130002\" > \n<thead>    <tr> \n        <th class=\"index_name level0\" >Initial</th> \n        <th class=\"col_heading level0 col0\" >Capt</th> \n        <th class=\"col_heading level0 col1\" >Col</th> \n        <th class=\"col_heading level0 col2\" >Countess</th> \n        <th class=\"col_heading level0 col3\" >Don</th> \n        <th class=\"col_heading level0 col4\" >Dr</th> \n        <th class=\"col_heading level0 col5\" >Jonkheer</th> \n        <th class=\"col_heading level0 col6\" >Lady</th> \n        <th class=\"col_heading level0 col7\" >Major</th> \n        <th class=\"col_heading level0 col8\" >Master</th> \n        <th class=\"col_heading level0 col9\" >Miss</th> \n        <th class=\"col_heading level0 col10\" >Mlle</th> \n        <th class=\"col_heading level0 col11\" >Mme</th> \n        <th class=\"col_heading level0 col12\" >Mr</th> \n        <th class=\"col_heading level0 col13\" >Mrs</th> \n        <th class=\"col_heading level0 col14\" >Ms</th> \n        <th class=\"col_heading level0 col15\" >Rev</th> \n        <th class=\"col_heading level0 col16\" >Sir</th> \n    </tr>    <tr> \n        <th class=\"index_name level0\" >Sex</th> \n        <th class=\"blank\" ></th> \n        <th class=\"blank\" ></th> \n        <th class=\"blank\" ></th> \n        <th class=\"blank\" ></th> \n        <th class=\"blank\" ></th> \n        <th class=\"blank\" ></th> \n        <th class=\"blank\" ></th> \n        <th class=\"blank\" ></th> \n        <th class=\"blank\" ></th> \n        <th class=\"blank\" ></th> \n        <th class=\"blank\" ></th> \n        <th class=\"blank\" ></th> \n        <th class=\"blank\" ></th> \n        <th class=\"blank\" ></th> \n        <th class=\"blank\" ></th> \n        <th class=\"blank\" ></th> \n        <th class=\"blank\" ></th> \n    </tr></thead> \n<tbody>    <tr> \n        <th id=\"T_3d3de9fc_4370_11e9_a5dd_0242ac130002level0_row0\" class=\"row_heading level0 row0\" >female</th> \n        <td id=\"T_3d3de9fc_4370_11e9_a5dd_0242ac130002row0_col0\" class=\"data row0 col0\" >0</td> \n        <td id=\"T_3d3de9fc_4370_11e9_a5dd_0242ac130002row0_col1\" class=\"data row0 col1\" >0</td> \n        <td id=\"T_3d3de9fc_4370_11e9_a5dd_0242ac130002row0_col2\" class=\"data row0 col2\" >1</td> \n        <td id=\"T_3d3de9fc_4370_11e9_a5dd_0242ac130002row0_col3\" class=\"data row0 col3\" >0</td> \n        <td id=\"T_3d3de9fc_4370_11e9_a5dd_0242ac130002row0_col4\" class=\"data row0 col4\" >1</td> \n        <td id=\"T_3d3de9fc_4370_11e9_a5dd_0242ac130002row0_col5\" class=\"data row0 col5\" >0</td> \n        <td id=\"T_3d3de9fc_4370_11e9_a5dd_0242ac130002row0_col6\" class=\"data row0 col6\" >1</td> \n        <td id=\"T_3d3de9fc_4370_11e9_a5dd_0242ac130002row0_col7\" class=\"data row0 col7\" >0</td> \n        <td id=\"T_3d3de9fc_4370_11e9_a5dd_0242ac130002row0_col8\" class=\"data row0 col8\" >0</td> \n        <td id=\"T_3d3de9fc_4370_11e9_a5dd_0242ac130002row0_col9\" class=\"data row0 col9\" >182</td> \n        <td id=\"T_3d3de9fc_4370_11e9_a5dd_0242ac130002row0_col10\" class=\"data row0 col10\" >2</td> \n        <td id=\"T_3d3de9fc_4370_11e9_a5dd_0242ac130002row0_col11\" class=\"data row0 col11\" >1</td> \n        <td id=\"T_3d3de9fc_4370_11e9_a5dd_0242ac130002row0_col12\" class=\"data row0 col12\" >0</td> \n        <td id=\"T_3d3de9fc_4370_11e9_a5dd_0242ac130002row0_col13\" class=\"data row0 col13\" >125</td> \n        <td id=\"T_3d3de9fc_4370_11e9_a5dd_0242ac130002row0_col14\" class=\"data row0 col14\" >1</td> \n        <td id=\"T_3d3de9fc_4370_11e9_a5dd_0242ac130002row0_col15\" class=\"data row0 col15\" >0</td> \n        <td id=\"T_3d3de9fc_4370_11e9_a5dd_0242ac130002row0_col16\" class=\"data row0 col16\" >0</td> \n    </tr>    <tr> \n        <th id=\"T_3d3de9fc_4370_11e9_a5dd_0242ac130002level0_row1\" class=\"row_heading level0 row1\" >male</th> \n        <td id=\"T_3d3de9fc_4370_11e9_a5dd_0242ac130002row1_col0\" class=\"data row1 col0\" >1</td> \n        <td id=\"T_3d3de9fc_4370_11e9_a5dd_0242ac130002row1_col1\" class=\"data row1 col1\" >2</td> \n        <td id=\"T_3d3de9fc_4370_11e9_a5dd_0242ac130002row1_col2\" class=\"data row1 col2\" >0</td> \n        <td id=\"T_3d3de9fc_4370_11e9_a5dd_0242ac130002row1_col3\" class=\"data row1 col3\" >1</td> \n        <td id=\"T_3d3de9fc_4370_11e9_a5dd_0242ac130002row1_col4\" class=\"data row1 col4\" >6</td> \n        <td id=\"T_3d3de9fc_4370_11e9_a5dd_0242ac130002row1_col5\" class=\"data row1 col5\" >1</td> \n        <td id=\"T_3d3de9fc_4370_11e9_a5dd_0242ac130002row1_col6\" class=\"data row1 col6\" >0</td> \n        <td id=\"T_3d3de9fc_4370_11e9_a5dd_0242ac130002row1_col7\" class=\"data row1 col7\" >2</td> \n        <td id=\"T_3d3de9fc_4370_11e9_a5dd_0242ac130002row1_col8\" class=\"data row1 col8\" >40</td> \n        <td id=\"T_3d3de9fc_4370_11e9_a5dd_0242ac130002row1_col9\" class=\"data row1 col9\" >0</td> \n        <td id=\"T_3d3de9fc_4370_11e9_a5dd_0242ac130002row1_col10\" class=\"data row1 col10\" >0</td> \n        <td id=\"T_3d3de9fc_4370_11e9_a5dd_0242ac130002row1_col11\" class=\"data row1 col11\" >0</td> \n        <td id=\"T_3d3de9fc_4370_11e9_a5dd_0242ac130002row1_col12\" class=\"data row1 col12\" >517</td> \n        <td id=\"T_3d3de9fc_4370_11e9_a5dd_0242ac130002row1_col13\" class=\"data row1 col13\" >0</td> \n        <td id=\"T_3d3de9fc_4370_11e9_a5dd_0242ac130002row1_col14\" class=\"data row1 col14\" >0</td> \n        <td id=\"T_3d3de9fc_4370_11e9_a5dd_0242ac130002row1_col15\" class=\"data row1 col15\" >6</td> \n        <td id=\"T_3d3de9fc_4370_11e9_a5dd_0242ac130002row1_col16\" class=\"data row1 col16\" >1</td> \n    </tr></tbody> \n</table> "
          },
          "metadata": {}
        }
      ]
    },
    {
      "metadata": {
        "trusted": true,
        "_uuid": "ed914f2179e8e56ee52e5e945f8bfafab9b1044a"
      },
      "cell_type": "code",
      "source": "df_train['Initial'].replace(['Mlle','Mme','Ms','Dr','Major','Lady','Countess','Jonkheer','Col','Rev','Capt','Sir','Don','Dona'],\n                           ['Miss','Miss','Miss','Mr','Mr','Mrs','Mrs','Other','Other','Other','Mr','Mr','Mr','Mr'], inplace=True)\n\ndf_test['Initial'].replace(['Mlle','Mme','Ms','Dr','Major','Lady','Countess','Jonkheer','Col','Rev','Capt','Sir','Don','Dona'],\n                           ['Miss','Miss','Miss','Mr','Mr','Mrs','Mrs','Other','Other','Other','Mr','Mr','Mr','Mr'], inplace=True)\n\n",
      "execution_count": 57,
      "outputs": []
    },
    {
      "metadata": {
        "trusted": true,
        "_uuid": "065b7aff8afca33de3fd739f79d5eb85bc9ca7fc"
      },
      "cell_type": "code",
      "source": "df_train.groupby('Initial').mean()",
      "execution_count": 58,
      "outputs": [
        {
          "output_type": "execute_result",
          "execution_count": 58,
          "data": {
            "text/plain": "         PassengerId  Survived     ...          Fare  FamilySize\nInitial                            ...                          \nMaster    414.975000  0.575000     ...      3.340710    4.675000\nMiss      411.741935  0.704301     ...      3.123713    2.236559\nMr        455.880907  0.162571     ...      2.651507    1.444234\nMrs       456.393701  0.795276     ...      3.443751    2.511811\nOther     564.444444  0.111111     ...      2.641605    1.222222\n\n[5 rows x 8 columns]",
            "text/html": "<div>\n<style scoped>\n    .dataframe tbody tr th:only-of-type {\n        vertical-align: middle;\n    }\n\n    .dataframe tbody tr th {\n        vertical-align: top;\n    }\n\n    .dataframe thead th {\n        text-align: right;\n    }\n</style>\n<table border=\"1\" class=\"dataframe\">\n  <thead>\n    <tr style=\"text-align: right;\">\n      <th></th>\n      <th>PassengerId</th>\n      <th>Survived</th>\n      <th>Pclass</th>\n      <th>Age</th>\n      <th>SibSp</th>\n      <th>Parch</th>\n      <th>Fare</th>\n      <th>FamilySize</th>\n    </tr>\n    <tr>\n      <th>Initial</th>\n      <th></th>\n      <th></th>\n      <th></th>\n      <th></th>\n      <th></th>\n      <th></th>\n      <th></th>\n      <th></th>\n    </tr>\n  </thead>\n  <tbody>\n    <tr>\n      <th>Master</th>\n      <td>414.975000</td>\n      <td>0.575000</td>\n      <td>2.625000</td>\n      <td>4.574167</td>\n      <td>2.300000</td>\n      <td>1.375000</td>\n      <td>3.340710</td>\n      <td>4.675000</td>\n    </tr>\n    <tr>\n      <th>Miss</th>\n      <td>411.741935</td>\n      <td>0.704301</td>\n      <td>2.284946</td>\n      <td>21.860000</td>\n      <td>0.698925</td>\n      <td>0.537634</td>\n      <td>3.123713</td>\n      <td>2.236559</td>\n    </tr>\n    <tr>\n      <th>Mr</th>\n      <td>455.880907</td>\n      <td>0.162571</td>\n      <td>2.381853</td>\n      <td>32.798677</td>\n      <td>0.293006</td>\n      <td>0.151229</td>\n      <td>2.651507</td>\n      <td>1.444234</td>\n    </tr>\n    <tr>\n      <th>Mrs</th>\n      <td>456.393701</td>\n      <td>0.795276</td>\n      <td>1.984252</td>\n      <td>35.981818</td>\n      <td>0.692913</td>\n      <td>0.818898</td>\n      <td>3.443751</td>\n      <td>2.511811</td>\n    </tr>\n    <tr>\n      <th>Other</th>\n      <td>564.444444</td>\n      <td>0.111111</td>\n      <td>1.666667</td>\n      <td>45.888889</td>\n      <td>0.111111</td>\n      <td>0.111111</td>\n      <td>2.641605</td>\n      <td>1.222222</td>\n    </tr>\n  </tbody>\n</table>\n</div>"
          },
          "metadata": {}
        }
      ]
    },
    {
      "metadata": {
        "trusted": true,
        "_uuid": "afdaf27d02438691845b93ff1b4fc59d86e618be"
      },
      "cell_type": "code",
      "source": "df_train.groupby('Initial')['Survived'].mean()",
      "execution_count": 44,
      "outputs": [
        {
          "output_type": "execute_result",
          "execution_count": 44,
          "data": {
            "text/plain": "Initial\nMaster    0.575000\nMiss      0.704301\nMr        0.162571\nMrs       0.795276\nOther     0.111111\nName: Survived, dtype: float64"
          },
          "metadata": {}
        }
      ]
    },
    {
      "metadata": {
        "trusted": true,
        "_uuid": "6f36232c4b7cfa7ef0f8ee3ded6d7c00f0996eec"
      },
      "cell_type": "code",
      "source": "df_train.groupby('Initial')['Survived'].mean().plot.bar()",
      "execution_count": 45,
      "outputs": [
        {
          "output_type": "execute_result",
          "execution_count": 45,
          "data": {
            "text/plain": "<matplotlib.axes._subplots.AxesSubplot at 0x7f37bfe37ac8>"
          },
          "metadata": {}
        },
        {
          "output_type": "display_data",
          "data": {
            "text/plain": "<Figure size 432x288 with 1 Axes>",
            "image/png": "[encoded data removed]"
          },
          "metadata": {}
        }
      ]
    },
    {
      "metadata": {
        "trusted": true,
        "_uuid": "12ba99ee8ddd1752e4f27be2554661f862e2b681"
      },
      "cell_type": "code",
      "source": "df_all = pd.concat([df_train, df_test])",
      "execution_count": 59,
      "outputs": []
    },
    {
      "metadata": {
        "trusted": true,
        "_uuid": "3d2ebdbef69821b1aa954e1922596c81dc9ff5c4"
      },
      "cell_type": "code",
      "source": "df_all",
      "execution_count": 60,
      "outputs": [
        {
          "output_type": "execute_result",
          "execution_count": 60,
          "data": {
            "text/plain": "      Age        Cabin         ...         Survived              Ticket\n0    22.0          NaN         ...              0.0           A/5 21171\n1    38.0          C85         ...              1.0            PC 17599\n2    26.0          NaN         ...              1.0    STON/O2. 3101282\n3    35.0         C123         ...              1.0              113803\n4    35.0          NaN         ...              0.0              373450\n5    33.0          NaN         ...              0.0              330877\n6    54.0          E46         ...              0.0               17463\n7     2.0          NaN         ...              0.0              349909\n8    27.0          NaN         ...              1.0              347742\n9    14.0          NaN         ...              1.0              237736\n10    4.0           G6         ...              1.0             PP 9549\n11   58.0         C103         ...              1.0              113783\n12   20.0          NaN         ...              0.0           A/5. 2151\n13   39.0          NaN         ...              0.0              347082\n14   14.0          NaN         ...              0.0              350406\n15   55.0          NaN         ...              1.0              248706\n16    2.0          NaN         ...              0.0              382652\n17   33.0          NaN         ...              1.0              244373\n18   31.0          NaN         ...              0.0              345763\n19    NaN          NaN         ...              1.0                2649\n20   35.0          NaN         ...              0.0              239865\n21   34.0          D56         ...              1.0              248698\n22   15.0          NaN         ...              1.0              330923\n23   28.0           A6         ...              1.0              113788\n24    8.0          NaN         ...              0.0              349909\n25   38.0          NaN         ...              1.0              347077\n26   33.0          NaN         ...              0.0                2631\n27   19.0  C23 C25 C27         ...              0.0               19950\n28    NaN          NaN         ...              1.0              330959\n29   33.0          NaN         ...              0.0              349216\n..    ...          ...         ...              ...                 ...\n388  21.0          NaN         ...              NaN              364858\n389   6.0          NaN         ...              NaN              349909\n390  23.0          B24         ...              NaN               12749\n391  51.0          D28         ...              NaN            PC 17592\n392  13.0          NaN         ...              NaN           C.A. 2673\n393  47.0          NaN         ...              NaN          C.A. 30769\n394  29.0          NaN         ...              NaN              315153\n395  18.0          C31         ...              NaN               13695\n396  24.0          NaN         ...              NaN              371109\n397  48.0          B41         ...              NaN               13567\n398  22.0          NaN         ...              NaN              347065\n399  31.0          NaN         ...              NaN               21332\n400  30.0           C7         ...              NaN               36928\n401  38.0          NaN         ...              NaN               28664\n402  22.0          NaN         ...              NaN              112378\n403  17.0          NaN         ...              NaN              113059\n404  43.0          D40         ...              NaN               17765\n405  20.0          D38         ...              NaN       SC/PARIS 2166\n406  23.0          NaN         ...              NaN               28666\n407  50.0          C80         ...              NaN              113503\n408   NaN          NaN         ...              NaN              334915\n409   3.0          NaN         ...              NaN  SOTON/O.Q. 3101315\n410   NaN          NaN         ...              NaN              365237\n411  37.0          C78         ...              NaN               19928\n412  28.0          NaN         ...              NaN              347086\n413   NaN          NaN         ...              NaN           A.5. 3236\n414  39.0         C105         ...              NaN            PC 17758\n415  38.5          NaN         ...              NaN  SOTON/O.Q. 3101262\n416   NaN          NaN         ...              NaN              359309\n417   NaN          NaN         ...              NaN                2668\n\n[1309 rows x 14 columns]",
            "text/html": "<div>\n<style scoped>\n    .dataframe tbody tr th:only-of-type {\n        vertical-align: middle;\n    }\n\n    .dataframe tbody tr th {\n        vertical-align: top;\n    }\n\n    .dataframe thead th {\n        text-align: right;\n    }\n</style>\n<table border=\"1\" class=\"dataframe\">\n  <thead>\n    <tr style=\"text-align: right;\">\n      <th></th>\n      <th>Age</th>\n      <th>Cabin</th>\n      <th>Embarked</th>\n      <th>FamilySize</th>\n      <th>Fare</th>\n      <th>Initial</th>\n      <th>Name</th>\n      <th>Parch</th>\n      <th>PassengerId</th>\n      <th>Pclass</th>\n      <th>Sex</th>\n      <th>SibSp</th>\n      <th>Survived</th>\n      <th>Ticket</th>\n    </tr>\n  </thead>\n  <tbody>\n    <tr>\n      <th>0</th>\n      <td>22.0</td>\n      <td>NaN</td>\n      <td>S</td>\n      <td>2.0</td>\n      <td>1.981001</td>\n      <td>Mr</td>\n      <td>Braund, Mr. Owen Harris</td>\n      <td>0</td>\n      <td>1</td>\n      <td>3</td>\n      <td>male</td>\n      <td>1</td>\n      <td>0.0</td>\n      <td>A/5 21171</td>\n    </tr>\n    <tr>\n      <th>1</th>\n      <td>38.0</td>\n      <td>C85</td>\n      <td>C</td>\n      <td>2.0</td>\n      <td>4.266662</td>\n      <td>Mrs</td>\n      <td>Cumings, Mrs. John Bradley (Florence Briggs Th...</td>\n      <td>0</td>\n      <td>2</td>\n      <td>1</td>\n      <td>female</td>\n      <td>1</td>\n      <td>1.0</td>\n      <td>PC 17599</td>\n    </tr>\n    <tr>\n      <th>2</th>\n      <td>26.0</td>\n      <td>NaN</td>\n      <td>S</td>\n      <td>1.0</td>\n      <td>2.070022</td>\n      <td>Miss</td>\n      <td>Heikkinen, Miss. Laina</td>\n      <td>0</td>\n      <td>3</td>\n      <td>3</td>\n      <td>female</td>\n      <td>0</td>\n      <td>1.0</td>\n      <td>STON/O2. 3101282</td>\n    </tr>\n    <tr>\n      <th>3</th>\n      <td>35.0</td>\n      <td>C123</td>\n      <td>S</td>\n      <td>2.0</td>\n      <td>3.972177</td>\n      <td>Mrs</td>\n      <td>Futrelle, Mrs. Jacques Heath (Lily May Peel)</td>\n      <td>0</td>\n      <td>4</td>\n      <td>1</td>\n      <td>female</td>\n      <td>1</td>\n      <td>1.0</td>\n      <td>113803</td>\n    </tr>\n    <tr>\n      <th>4</th>\n      <td>35.0</td>\n      <td>NaN</td>\n      <td>S</td>\n      <td>1.0</td>\n      <td>2.085672</td>\n      <td>Mr</td>\n      <td>Allen, Mr. William Henry</td>\n      <td>0</td>\n      <td>5</td>\n      <td>3</td>\n      <td>male</td>\n      <td>0</td>\n      <td>0.0</td>\n      <td>373450</td>\n    </tr>\n    <tr>\n      <th>5</th>\n      <td>33.0</td>\n      <td>NaN</td>\n      <td>Q</td>\n      <td>1.0</td>\n      <td>2.135148</td>\n      <td>Mr</td>\n      <td>Moran, Mr. James</td>\n      <td>0</td>\n      <td>6</td>\n      <td>3</td>\n      <td>male</td>\n      <td>0</td>\n      <td>0.0</td>\n      <td>330877</td>\n    </tr>\n    <tr>\n      <th>6</th>\n      <td>54.0</td>\n      <td>E46</td>\n      <td>S</td>\n      <td>1.0</td>\n      <td>3.948596</td>\n      <td>Mr</td>\n      <td>McCarthy, Mr. Timothy J</td>\n      <td>0</td>\n      <td>7</td>\n      <td>1</td>\n      <td>male</td>\n      <td>0</td>\n      <td>0.0</td>\n      <td>17463</td>\n    </tr>\n    <tr>\n      <th>7</th>\n      <td>2.0</td>\n      <td>NaN</td>\n      <td>S</td>\n      <td>5.0</td>\n      <td>3.048088</td>\n      <td>Master</td>\n      <td>Palsson, Master. Gosta Leonard</td>\n      <td>1</td>\n      <td>8</td>\n      <td>3</td>\n      <td>male</td>\n      <td>3</td>\n      <td>0.0</td>\n      <td>349909</td>\n    </tr>\n    <tr>\n      <th>8</th>\n      <td>27.0</td>\n      <td>NaN</td>\n      <td>S</td>\n      <td>3.0</td>\n      <td>2.409941</td>\n      <td>Mrs</td>\n      <td>Johnson, Mrs. Oscar W (Elisabeth Vilhelmina Berg)</td>\n      <td>2</td>\n      <td>9</td>\n      <td>3</td>\n      <td>female</td>\n      <td>0</td>\n      <td>1.0</td>\n      <td>347742</td>\n    </tr>\n    <tr>\n      <th>9</th>\n      <td>14.0</td>\n      <td>NaN</td>\n      <td>C</td>\n      <td>2.0</td>\n      <td>3.403555</td>\n      <td>Mrs</td>\n      <td>Nasser, Mrs. Nicholas (Adele Achem)</td>\n      <td>0</td>\n      <td>10</td>\n      <td>2</td>\n      <td>female</td>\n      <td>1</td>\n      <td>1.0</td>\n      <td>237736</td>\n    </tr>\n    <tr>\n      <th>10</th>\n      <td>4.0</td>\n      <td>G6</td>\n      <td>S</td>\n      <td>3.0</td>\n      <td>2.815409</td>\n      <td>Miss</td>\n      <td>Sandstrom, Miss. Marguerite Rut</td>\n      <td>1</td>\n      <td>11</td>\n      <td>3</td>\n      <td>female</td>\n      <td>1</td>\n      <td>1.0</td>\n      <td>PP 9549</td>\n    </tr>\n    <tr>\n      <th>11</th>\n      <td>58.0</td>\n      <td>C103</td>\n      <td>S</td>\n      <td>1.0</td>\n      <td>3.279030</td>\n      <td>Miss</td>\n      <td>Bonnell, Miss. Elizabeth</td>\n      <td>0</td>\n      <td>12</td>\n      <td>1</td>\n      <td>female</td>\n      <td>0</td>\n      <td>1.0</td>\n      <td>113783</td>\n    </tr>\n    <tr>\n      <th>12</th>\n      <td>20.0</td>\n      <td>NaN</td>\n      <td>S</td>\n      <td>1.0</td>\n      <td>2.085672</td>\n      <td>Mr</td>\n      <td>Saundercock, Mr. William Henry</td>\n      <td>0</td>\n      <td>13</td>\n      <td>3</td>\n      <td>male</td>\n      <td>0</td>\n      <td>0.0</td>\n      <td>A/5. 2151</td>\n    </tr>\n    <tr>\n      <th>13</th>\n      <td>39.0</td>\n      <td>NaN</td>\n      <td>S</td>\n      <td>7.0</td>\n      <td>3.442819</td>\n      <td>Mr</td>\n      <td>Andersson, Mr. Anders Johan</td>\n      <td>5</td>\n      <td>14</td>\n      <td>3</td>\n      <td>male</td>\n      <td>1</td>\n      <td>0.0</td>\n      <td>347082</td>\n    </tr>\n    <tr>\n      <th>14</th>\n      <td>14.0</td>\n      <td>NaN</td>\n      <td>S</td>\n      <td>1.0</td>\n      <td>2.061048</td>\n      <td>Miss</td>\n      <td>Vestrom, Miss. Hulda Amanda Adolfina</td>\n      <td>0</td>\n      <td>15</td>\n      <td>3</td>\n      <td>female</td>\n      <td>0</td>\n      <td>0.0</td>\n      <td>350406</td>\n    </tr>\n    <tr>\n      <th>15</th>\n      <td>55.0</td>\n      <td>NaN</td>\n      <td>S</td>\n      <td>1.0</td>\n      <td>2.772589</td>\n      <td>Mrs</td>\n      <td>Hewlett, Mrs. (Mary D Kingcome)</td>\n      <td>0</td>\n      <td>16</td>\n      <td>2</td>\n      <td>female</td>\n      <td>0</td>\n      <td>1.0</td>\n      <td>248706</td>\n    </tr>\n    <tr>\n      <th>16</th>\n      <td>2.0</td>\n      <td>NaN</td>\n      <td>Q</td>\n      <td>6.0</td>\n      <td>3.371597</td>\n      <td>Master</td>\n      <td>Rice, Master. Eugene</td>\n      <td>1</td>\n      <td>17</td>\n      <td>3</td>\n      <td>male</td>\n      <td>4</td>\n      <td>0.0</td>\n      <td>382652</td>\n    </tr>\n    <tr>\n      <th>17</th>\n      <td>33.0</td>\n      <td>NaN</td>\n      <td>S</td>\n      <td>1.0</td>\n      <td>2.564949</td>\n      <td>Mr</td>\n      <td>Williams, Mr. Charles Eugene</td>\n      <td>0</td>\n      <td>18</td>\n      <td>2</td>\n      <td>male</td>\n      <td>0</td>\n      <td>1.0</td>\n      <td>244373</td>\n    </tr>\n    <tr>\n      <th>18</th>\n      <td>31.0</td>\n      <td>NaN</td>\n      <td>S</td>\n      <td>2.0</td>\n      <td>2.890372</td>\n      <td>Mrs</td>\n      <td>Vander Planke, Mrs. Julius (Emelia Maria Vande...</td>\n      <td>0</td>\n      <td>19</td>\n      <td>3</td>\n      <td>female</td>\n      <td>1</td>\n      <td>0.0</td>\n      <td>345763</td>\n    </tr>\n    <tr>\n      <th>19</th>\n      <td>NaN</td>\n      <td>NaN</td>\n      <td>C</td>\n      <td>1.0</td>\n      <td>1.977547</td>\n      <td>Mrs</td>\n      <td>Masselmani, Mrs. Fatima</td>\n      <td>0</td>\n      <td>20</td>\n      <td>3</td>\n      <td>female</td>\n      <td>0</td>\n      <td>1.0</td>\n      <td>2649</td>\n    </tr>\n    <tr>\n      <th>20</th>\n      <td>35.0</td>\n      <td>NaN</td>\n      <td>S</td>\n      <td>1.0</td>\n      <td>3.258097</td>\n      <td>Mr</td>\n      <td>Fynney, Mr. Joseph J</td>\n      <td>0</td>\n      <td>21</td>\n      <td>2</td>\n      <td>male</td>\n      <td>0</td>\n      <td>0.0</td>\n      <td>239865</td>\n    </tr>\n    <tr>\n      <th>21</th>\n      <td>34.0</td>\n      <td>D56</td>\n      <td>S</td>\n      <td>1.0</td>\n      <td>2.564949</td>\n      <td>Mr</td>\n      <td>Beesley, Mr. Lawrence</td>\n      <td>0</td>\n      <td>22</td>\n      <td>2</td>\n      <td>male</td>\n      <td>0</td>\n      <td>1.0</td>\n      <td>248698</td>\n    </tr>\n    <tr>\n      <th>22</th>\n      <td>15.0</td>\n      <td>NaN</td>\n      <td>Q</td>\n      <td>1.0</td>\n      <td>2.083085</td>\n      <td>Miss</td>\n      <td>McGowan, Miss. Anna \"Annie\"</td>\n      <td>0</td>\n      <td>23</td>\n      <td>3</td>\n      <td>female</td>\n      <td>0</td>\n      <td>1.0</td>\n      <td>330923</td>\n    </tr>\n    <tr>\n      <th>23</th>\n      <td>28.0</td>\n      <td>A6</td>\n      <td>S</td>\n      <td>1.0</td>\n      <td>3.569533</td>\n      <td>Mr</td>\n      <td>Sloper, Mr. William Thompson</td>\n      <td>0</td>\n      <td>24</td>\n      <td>1</td>\n      <td>male</td>\n      <td>0</td>\n      <td>1.0</td>\n      <td>113788</td>\n    </tr>\n    <tr>\n      <th>24</th>\n      <td>8.0</td>\n      <td>NaN</td>\n      <td>S</td>\n      <td>5.0</td>\n      <td>3.048088</td>\n      <td>Miss</td>\n      <td>Palsson, Miss. Torborg Danira</td>\n      <td>1</td>\n      <td>25</td>\n      <td>3</td>\n      <td>female</td>\n      <td>3</td>\n      <td>0.0</td>\n      <td>349909</td>\n    </tr>\n    <tr>\n      <th>25</th>\n      <td>38.0</td>\n      <td>NaN</td>\n      <td>S</td>\n      <td>7.0</td>\n      <td>3.446410</td>\n      <td>Mrs</td>\n      <td>Asplund, Mrs. Carl Oscar (Selma Augusta Emilia...</td>\n      <td>5</td>\n      <td>26</td>\n      <td>3</td>\n      <td>female</td>\n      <td>1</td>\n      <td>1.0</td>\n      <td>347077</td>\n    </tr>\n    <tr>\n      <th>26</th>\n      <td>33.0</td>\n      <td>NaN</td>\n      <td>C</td>\n      <td>1.0</td>\n      <td>1.977547</td>\n      <td>Mr</td>\n      <td>Emir, Mr. Farred Chehab</td>\n      <td>0</td>\n      <td>27</td>\n      <td>3</td>\n      <td>male</td>\n      <td>0</td>\n      <td>0.0</td>\n      <td>2631</td>\n    </tr>\n    <tr>\n      <th>27</th>\n      <td>19.0</td>\n      <td>C23 C25 C27</td>\n      <td>S</td>\n      <td>6.0</td>\n      <td>5.572154</td>\n      <td>Mr</td>\n      <td>Fortune, Mr. Charles Alexander</td>\n      <td>2</td>\n      <td>28</td>\n      <td>1</td>\n      <td>male</td>\n      <td>3</td>\n      <td>0.0</td>\n      <td>19950</td>\n    </tr>\n    <tr>\n      <th>28</th>\n      <td>NaN</td>\n      <td>NaN</td>\n      <td>Q</td>\n      <td>1.0</td>\n      <td>2.064226</td>\n      <td>Miss</td>\n      <td>O'Dwyer, Miss. Ellen \"Nellie\"</td>\n      <td>0</td>\n      <td>29</td>\n      <td>3</td>\n      <td>female</td>\n      <td>0</td>\n      <td>1.0</td>\n      <td>330959</td>\n    </tr>\n    <tr>\n      <th>29</th>\n      <td>33.0</td>\n      <td>NaN</td>\n      <td>S</td>\n      <td>1.0</td>\n      <td>2.066331</td>\n      <td>Mr</td>\n      <td>Todoroff, Mr. Lalio</td>\n      <td>0</td>\n      <td>30</td>\n      <td>3</td>\n      <td>male</td>\n      <td>0</td>\n      <td>0.0</td>\n      <td>349216</td>\n    </tr>\n    <tr>\n      <th>...</th>\n      <td>...</td>\n      <td>...</td>\n      <td>...</td>\n      <td>...</td>\n      <td>...</td>\n      <td>...</td>\n      <td>...</td>\n      <td>...</td>\n      <td>...</td>\n      <td>...</td>\n      <td>...</td>\n      <td>...</td>\n      <td>...</td>\n      <td>...</td>\n    </tr>\n    <tr>\n      <th>388</th>\n      <td>21.0</td>\n      <td>NaN</td>\n      <td>Q</td>\n      <td>NaN</td>\n      <td>7.750000</td>\n      <td>Mr</td>\n      <td>Canavan, Mr. Patrick</td>\n      <td>0</td>\n      <td>1280</td>\n      <td>3</td>\n      <td>male</td>\n      <td>0</td>\n      <td>NaN</td>\n      <td>364858</td>\n    </tr>\n    <tr>\n      <th>389</th>\n      <td>6.0</td>\n      <td>NaN</td>\n      <td>S</td>\n      <td>NaN</td>\n      <td>21.075000</td>\n      <td>Master</td>\n      <td>Palsson, Master. Paul Folke</td>\n      <td>1</td>\n      <td>1281</td>\n      <td>3</td>\n      <td>male</td>\n      <td>3</td>\n      <td>NaN</td>\n      <td>349909</td>\n    </tr>\n    <tr>\n      <th>390</th>\n      <td>23.0</td>\n      <td>B24</td>\n      <td>S</td>\n      <td>NaN</td>\n      <td>93.500000</td>\n      <td>Mr</td>\n      <td>Payne, Mr. Vivian Ponsonby</td>\n      <td>0</td>\n      <td>1282</td>\n      <td>1</td>\n      <td>male</td>\n      <td>0</td>\n      <td>NaN</td>\n      <td>12749</td>\n    </tr>\n    <tr>\n      <th>391</th>\n      <td>51.0</td>\n      <td>D28</td>\n      <td>S</td>\n      <td>NaN</td>\n      <td>39.400000</td>\n      <td>Mrs</td>\n      <td>Lines, Mrs. Ernest H (Elizabeth Lindsey James)</td>\n      <td>1</td>\n      <td>1283</td>\n      <td>1</td>\n      <td>female</td>\n      <td>0</td>\n      <td>NaN</td>\n      <td>PC 17592</td>\n    </tr>\n    <tr>\n      <th>392</th>\n      <td>13.0</td>\n      <td>NaN</td>\n      <td>S</td>\n      <td>NaN</td>\n      <td>20.250000</td>\n      <td>Master</td>\n      <td>Abbott, Master. Eugene Joseph</td>\n      <td>2</td>\n      <td>1284</td>\n      <td>3</td>\n      <td>male</td>\n      <td>0</td>\n      <td>NaN</td>\n      <td>C.A. 2673</td>\n    </tr>\n    <tr>\n      <th>393</th>\n      <td>47.0</td>\n      <td>NaN</td>\n      <td>S</td>\n      <td>NaN</td>\n      <td>10.500000</td>\n      <td>Mr</td>\n      <td>Gilbert, Mr. William</td>\n      <td>0</td>\n      <td>1285</td>\n      <td>2</td>\n      <td>male</td>\n      <td>0</td>\n      <td>NaN</td>\n      <td>C.A. 30769</td>\n    </tr>\n    <tr>\n      <th>394</th>\n      <td>29.0</td>\n      <td>NaN</td>\n      <td>S</td>\n      <td>NaN</td>\n      <td>22.025000</td>\n      <td>Mr</td>\n      <td>Kink-Heilmann, Mr. Anton</td>\n      <td>1</td>\n      <td>1286</td>\n      <td>3</td>\n      <td>male</td>\n      <td>3</td>\n      <td>NaN</td>\n      <td>315153</td>\n    </tr>\n    <tr>\n      <th>395</th>\n      <td>18.0</td>\n      <td>C31</td>\n      <td>S</td>\n      <td>NaN</td>\n      <td>60.000000</td>\n      <td>Mrs</td>\n      <td>Smith, Mrs. Lucien Philip (Mary Eloise Hughes)</td>\n      <td>0</td>\n      <td>1287</td>\n      <td>1</td>\n      <td>female</td>\n      <td>1</td>\n      <td>NaN</td>\n      <td>13695</td>\n    </tr>\n    <tr>\n      <th>396</th>\n      <td>24.0</td>\n      <td>NaN</td>\n      <td>Q</td>\n      <td>NaN</td>\n      <td>7.250000</td>\n      <td>Mr</td>\n      <td>Colbert, Mr. Patrick</td>\n      <td>0</td>\n      <td>1288</td>\n      <td>3</td>\n      <td>male</td>\n      <td>0</td>\n      <td>NaN</td>\n      <td>371109</td>\n    </tr>\n    <tr>\n      <th>397</th>\n      <td>48.0</td>\n      <td>B41</td>\n      <td>C</td>\n      <td>NaN</td>\n      <td>79.200000</td>\n      <td>Mrs</td>\n      <td>Frolicher-Stehli, Mrs. Maxmillian (Margaretha ...</td>\n      <td>1</td>\n      <td>1289</td>\n      <td>1</td>\n      <td>female</td>\n      <td>1</td>\n      <td>NaN</td>\n      <td>13567</td>\n    </tr>\n    <tr>\n      <th>398</th>\n      <td>22.0</td>\n      <td>NaN</td>\n      <td>S</td>\n      <td>NaN</td>\n      <td>7.775000</td>\n      <td>Mr</td>\n      <td>Larsson-Rondberg, Mr. Edvard A</td>\n      <td>0</td>\n      <td>1290</td>\n      <td>3</td>\n      <td>male</td>\n      <td>0</td>\n      <td>NaN</td>\n      <td>347065</td>\n    </tr>\n    <tr>\n      <th>399</th>\n      <td>31.0</td>\n      <td>NaN</td>\n      <td>Q</td>\n      <td>NaN</td>\n      <td>7.733300</td>\n      <td>Mr</td>\n      <td>Conlon, Mr. Thomas Henry</td>\n      <td>0</td>\n      <td>1291</td>\n      <td>3</td>\n      <td>male</td>\n      <td>0</td>\n      <td>NaN</td>\n      <td>21332</td>\n    </tr>\n    <tr>\n      <th>400</th>\n      <td>30.0</td>\n      <td>C7</td>\n      <td>S</td>\n      <td>NaN</td>\n      <td>164.866700</td>\n      <td>Miss</td>\n      <td>Bonnell, Miss. Caroline</td>\n      <td>0</td>\n      <td>1292</td>\n      <td>1</td>\n      <td>female</td>\n      <td>0</td>\n      <td>NaN</td>\n      <td>36928</td>\n    </tr>\n    <tr>\n      <th>401</th>\n      <td>38.0</td>\n      <td>NaN</td>\n      <td>S</td>\n      <td>NaN</td>\n      <td>21.000000</td>\n      <td>Mr</td>\n      <td>Gale, Mr. Harry</td>\n      <td>0</td>\n      <td>1293</td>\n      <td>2</td>\n      <td>male</td>\n      <td>1</td>\n      <td>NaN</td>\n      <td>28664</td>\n    </tr>\n    <tr>\n      <th>402</th>\n      <td>22.0</td>\n      <td>NaN</td>\n      <td>C</td>\n      <td>NaN</td>\n      <td>59.400000</td>\n      <td>Miss</td>\n      <td>Gibson, Miss. Dorothy Winifred</td>\n      <td>1</td>\n      <td>1294</td>\n      <td>1</td>\n      <td>female</td>\n      <td>0</td>\n      <td>NaN</td>\n      <td>112378</td>\n    </tr>\n    <tr>\n      <th>403</th>\n      <td>17.0</td>\n      <td>NaN</td>\n      <td>S</td>\n      <td>NaN</td>\n      <td>47.100000</td>\n      <td>Mr</td>\n      <td>Carrau, Mr. Jose Pedro</td>\n      <td>0</td>\n      <td>1295</td>\n      <td>1</td>\n      <td>male</td>\n      <td>0</td>\n      <td>NaN</td>\n      <td>113059</td>\n    </tr>\n    <tr>\n      <th>404</th>\n      <td>43.0</td>\n      <td>D40</td>\n      <td>C</td>\n      <td>NaN</td>\n      <td>27.720800</td>\n      <td>Mr</td>\n      <td>Frauenthal, Mr. Isaac Gerald</td>\n      <td>0</td>\n      <td>1296</td>\n      <td>1</td>\n      <td>male</td>\n      <td>1</td>\n      <td>NaN</td>\n      <td>17765</td>\n    </tr>\n    <tr>\n      <th>405</th>\n      <td>20.0</td>\n      <td>D38</td>\n      <td>C</td>\n      <td>NaN</td>\n      <td>13.862500</td>\n      <td>Mr</td>\n      <td>Nourney, Mr. Alfred (Baron von Drachstedt\")\"</td>\n      <td>0</td>\n      <td>1297</td>\n      <td>2</td>\n      <td>male</td>\n      <td>0</td>\n      <td>NaN</td>\n      <td>SC/PARIS 2166</td>\n    </tr>\n    <tr>\n      <th>406</th>\n      <td>23.0</td>\n      <td>NaN</td>\n      <td>S</td>\n      <td>NaN</td>\n      <td>10.500000</td>\n      <td>Mr</td>\n      <td>Ware, Mr. William Jeffery</td>\n      <td>0</td>\n      <td>1298</td>\n      <td>2</td>\n      <td>male</td>\n      <td>1</td>\n      <td>NaN</td>\n      <td>28666</td>\n    </tr>\n    <tr>\n      <th>407</th>\n      <td>50.0</td>\n      <td>C80</td>\n      <td>C</td>\n      <td>NaN</td>\n      <td>211.500000</td>\n      <td>Mr</td>\n      <td>Widener, Mr. George Dunton</td>\n      <td>1</td>\n      <td>1299</td>\n      <td>1</td>\n      <td>male</td>\n      <td>1</td>\n      <td>NaN</td>\n      <td>113503</td>\n    </tr>\n    <tr>\n      <th>408</th>\n      <td>NaN</td>\n      <td>NaN</td>\n      <td>Q</td>\n      <td>NaN</td>\n      <td>7.720800</td>\n      <td>Miss</td>\n      <td>Riordan, Miss. Johanna Hannah\"\"</td>\n      <td>0</td>\n      <td>1300</td>\n      <td>3</td>\n      <td>female</td>\n      <td>0</td>\n      <td>NaN</td>\n      <td>334915</td>\n    </tr>\n    <tr>\n      <th>409</th>\n      <td>3.0</td>\n      <td>NaN</td>\n      <td>S</td>\n      <td>NaN</td>\n      <td>13.775000</td>\n      <td>Miss</td>\n      <td>Peacock, Miss. Treasteall</td>\n      <td>1</td>\n      <td>1301</td>\n      <td>3</td>\n      <td>female</td>\n      <td>1</td>\n      <td>NaN</td>\n      <td>SOTON/O.Q. 3101315</td>\n    </tr>\n    <tr>\n      <th>410</th>\n      <td>NaN</td>\n      <td>NaN</td>\n      <td>Q</td>\n      <td>NaN</td>\n      <td>7.750000</td>\n      <td>Miss</td>\n      <td>Naughton, Miss. Hannah</td>\n      <td>0</td>\n      <td>1302</td>\n      <td>3</td>\n      <td>female</td>\n      <td>0</td>\n      <td>NaN</td>\n      <td>365237</td>\n    </tr>\n    <tr>\n      <th>411</th>\n      <td>37.0</td>\n      <td>C78</td>\n      <td>Q</td>\n      <td>NaN</td>\n      <td>90.000000</td>\n      <td>Mrs</td>\n      <td>Minahan, Mrs. William Edward (Lillian E Thorpe)</td>\n      <td>0</td>\n      <td>1303</td>\n      <td>1</td>\n      <td>female</td>\n      <td>1</td>\n      <td>NaN</td>\n      <td>19928</td>\n    </tr>\n    <tr>\n      <th>412</th>\n      <td>28.0</td>\n      <td>NaN</td>\n      <td>S</td>\n      <td>NaN</td>\n      <td>7.775000</td>\n      <td>Miss</td>\n      <td>Henriksson, Miss. Jenny Lovisa</td>\n      <td>0</td>\n      <td>1304</td>\n      <td>3</td>\n      <td>female</td>\n      <td>0</td>\n      <td>NaN</td>\n      <td>347086</td>\n    </tr>\n    <tr>\n      <th>413</th>\n      <td>NaN</td>\n      <td>NaN</td>\n      <td>S</td>\n      <td>NaN</td>\n      <td>8.050000</td>\n      <td>Mr</td>\n      <td>Spector, Mr. Woolf</td>\n      <td>0</td>\n      <td>1305</td>\n      <td>3</td>\n      <td>male</td>\n      <td>0</td>\n      <td>NaN</td>\n      <td>A.5. 3236</td>\n    </tr>\n    <tr>\n      <th>414</th>\n      <td>39.0</td>\n      <td>C105</td>\n      <td>C</td>\n      <td>NaN</td>\n      <td>108.900000</td>\n      <td>Mr</td>\n      <td>Oliva y Ocana, Dona. Fermina</td>\n      <td>0</td>\n      <td>1306</td>\n      <td>1</td>\n      <td>female</td>\n      <td>0</td>\n      <td>NaN</td>\n      <td>PC 17758</td>\n    </tr>\n    <tr>\n      <th>415</th>\n      <td>38.5</td>\n      <td>NaN</td>\n      <td>S</td>\n      <td>NaN</td>\n      <td>7.250000</td>\n      <td>Mr</td>\n      <td>Saether, Mr. Simon Sivertsen</td>\n      <td>0</td>\n      <td>1307</td>\n      <td>3</td>\n      <td>male</td>\n      <td>0</td>\n      <td>NaN</td>\n      <td>SOTON/O.Q. 3101262</td>\n    </tr>\n    <tr>\n      <th>416</th>\n      <td>NaN</td>\n      <td>NaN</td>\n      <td>S</td>\n      <td>NaN</td>\n      <td>8.050000</td>\n      <td>Mr</td>\n      <td>Ware, Mr. Frederick</td>\n      <td>0</td>\n      <td>1308</td>\n      <td>3</td>\n      <td>male</td>\n      <td>0</td>\n      <td>NaN</td>\n      <td>359309</td>\n    </tr>\n    <tr>\n      <th>417</th>\n      <td>NaN</td>\n      <td>NaN</td>\n      <td>C</td>\n      <td>NaN</td>\n      <td>22.358300</td>\n      <td>Master</td>\n      <td>Peter, Master. Michael J</td>\n      <td>1</td>\n      <td>1309</td>\n      <td>3</td>\n      <td>male</td>\n      <td>1</td>\n      <td>NaN</td>\n      <td>2668</td>\n    </tr>\n  </tbody>\n</table>\n<p>1309 rows × 14 columns</p>\n</div>"
          },
          "metadata": {}
        }
      ]
    },
    {
      "metadata": {
        "trusted": true,
        "_uuid": "f2e586a555ba2780cba81c56aa8f5db6d7057fd1"
      },
      "cell_type": "code",
      "source": "df_all.groupby('Initial').mean()",
      "execution_count": 61,
      "outputs": [
        {
          "output_type": "execute_result",
          "execution_count": 61,
          "data": {
            "text/plain": "               Age  FamilySize    ...        SibSp  Survived\nInitial                           ...                       \nMaster    5.482642    4.675000    ...     2.049180  0.575000\nMiss     21.834533    2.236559    ...     0.652830  0.704301\nMr       32.630952    1.444234    ...     0.286641  0.162571\nMrs      37.034884    2.511811    ...     0.658291  0.795276\nOther    44.923077    1.222222    ...     0.230769  0.111111\n\n[5 rows x 8 columns]",
            "text/html": "<div>\n<style scoped>\n    .dataframe tbody tr th:only-of-type {\n        vertical-align: middle;\n    }\n\n    .dataframe tbody tr th {\n        vertical-align: top;\n    }\n\n    .dataframe thead th {\n        text-align: right;\n    }\n</style>\n<table border=\"1\" class=\"dataframe\">\n  <thead>\n    <tr style=\"text-align: right;\">\n      <th></th>\n      <th>Age</th>\n      <th>FamilySize</th>\n      <th>Fare</th>\n      <th>Parch</th>\n      <th>PassengerId</th>\n      <th>Pclass</th>\n      <th>SibSp</th>\n      <th>Survived</th>\n    </tr>\n    <tr>\n      <th>Initial</th>\n      <th></th>\n      <th></th>\n      <th></th>\n      <th></th>\n      <th></th>\n      <th></th>\n      <th></th>\n      <th></th>\n    </tr>\n  </thead>\n  <tbody>\n    <tr>\n      <th>Master</th>\n      <td>5.482642</td>\n      <td>4.675000</td>\n      <td>15.442677</td>\n      <td>1.377049</td>\n      <td>658.852459</td>\n      <td>2.655738</td>\n      <td>2.049180</td>\n      <td>0.575000</td>\n    </tr>\n    <tr>\n      <th>Miss</th>\n      <td>21.834533</td>\n      <td>2.236559</td>\n      <td>14.021188</td>\n      <td>0.494340</td>\n      <td>616.992453</td>\n      <td>2.332075</td>\n      <td>0.652830</td>\n      <td>0.704301</td>\n    </tr>\n    <tr>\n      <th>Mr</th>\n      <td>32.630952</td>\n      <td>1.444234</td>\n      <td>10.003941</td>\n      <td>0.159533</td>\n      <td>658.831388</td>\n      <td>2.359274</td>\n      <td>0.286641</td>\n      <td>0.162571</td>\n    </tr>\n    <tr>\n      <th>Mrs</th>\n      <td>37.034884</td>\n      <td>2.511811</td>\n      <td>23.896996</td>\n      <td>0.824121</td>\n      <td>685.673367</td>\n      <td>1.929648</td>\n      <td>0.658291</td>\n      <td>0.795276</td>\n    </tr>\n    <tr>\n      <th>Other</th>\n      <td>44.923077</td>\n      <td>1.222222</td>\n      <td>24.523034</td>\n      <td>0.153846</td>\n      <td>714.923077</td>\n      <td>1.615385</td>\n      <td>0.230769</td>\n      <td>0.111111</td>\n    </tr>\n  </tbody>\n</table>\n</div>"
          },
          "metadata": {}
        }
      ]
    },
    {
      "metadata": {
        "trusted": true,
        "_uuid": "4d79e991c42f6def1cb974c279d90c8ab5ce860e"
      },
      "cell_type": "code",
      "source": "df_train.loc[(df_train['Age'].isnull()) & (df_train['Initial'] == 'Mr')]",
      "execution_count": 70,
      "outputs": [
        {
          "output_type": "execute_result",
          "execution_count": 70,
          "data": {
            "text/plain": "Empty DataFrame\nColumns: [PassengerId, Survived, Pclass, Name, Sex, Age, SibSp, Parch, Ticket, Fare, Cabin, Embarked, FamilySize, Initial]\nIndex: []",
            "text/html": "<div>\n<style scoped>\n    .dataframe tbody tr th:only-of-type {\n        vertical-align: middle;\n    }\n\n    .dataframe tbody tr th {\n        vertical-align: top;\n    }\n\n    .dataframe thead th {\n        text-align: right;\n    }\n</style>\n<table border=\"1\" class=\"dataframe\">\n  <thead>\n    <tr style=\"text-align: right;\">\n      <th></th>\n      <th>PassengerId</th>\n      <th>Survived</th>\n      <th>Pclass</th>\n      <th>Name</th>\n      <th>Sex</th>\n      <th>Age</th>\n      <th>SibSp</th>\n      <th>Parch</th>\n      <th>Ticket</th>\n      <th>Fare</th>\n      <th>Cabin</th>\n      <th>Embarked</th>\n      <th>FamilySize</th>\n      <th>Initial</th>\n    </tr>\n  </thead>\n  <tbody>\n  </tbody>\n</table>\n</div>"
          },
          "metadata": {}
        }
      ]
    },
    {
      "metadata": {
        "trusted": true,
        "_uuid": "bf75d515a155047d325cdfbe4713a4034c90109c"
      },
      "cell_type": "code",
      "source": "df_all.groupby('Initial').mean()",
      "execution_count": 63,
      "outputs": [
        {
          "output_type": "execute_result",
          "execution_count": 63,
          "data": {
            "text/plain": "               Age  FamilySize    ...        SibSp  Survived\nInitial                           ...                       \nMaster    5.482642    4.675000    ...     2.049180  0.575000\nMiss     21.834533    2.236559    ...     0.652830  0.704301\nMr       32.630952    1.444234    ...     0.286641  0.162571\nMrs      37.034884    2.511811    ...     0.658291  0.795276\nOther    44.923077    1.222222    ...     0.230769  0.111111\n\n[5 rows x 8 columns]",
            "text/html": "<div>\n<style scoped>\n    .dataframe tbody tr th:only-of-type {\n        vertical-align: middle;\n    }\n\n    .dataframe tbody tr th {\n        vertical-align: top;\n    }\n\n    .dataframe thead th {\n        text-align: right;\n    }\n</style>\n<table border=\"1\" class=\"dataframe\">\n  <thead>\n    <tr style=\"text-align: right;\">\n      <th></th>\n      <th>Age</th>\n      <th>FamilySize</th>\n      <th>Fare</th>\n      <th>Parch</th>\n      <th>PassengerId</th>\n      <th>Pclass</th>\n      <th>SibSp</th>\n      <th>Survived</th>\n    </tr>\n    <tr>\n      <th>Initial</th>\n      <th></th>\n      <th></th>\n      <th></th>\n      <th></th>\n      <th></th>\n      <th></th>\n      <th></th>\n      <th></th>\n    </tr>\n  </thead>\n  <tbody>\n    <tr>\n      <th>Master</th>\n      <td>5.482642</td>\n      <td>4.675000</td>\n      <td>15.442677</td>\n      <td>1.377049</td>\n      <td>658.852459</td>\n      <td>2.655738</td>\n      <td>2.049180</td>\n      <td>0.575000</td>\n    </tr>\n    <tr>\n      <th>Miss</th>\n      <td>21.834533</td>\n      <td>2.236559</td>\n      <td>14.021188</td>\n      <td>0.494340</td>\n      <td>616.992453</td>\n      <td>2.332075</td>\n      <td>0.652830</td>\n      <td>0.704301</td>\n    </tr>\n    <tr>\n      <th>Mr</th>\n      <td>32.630952</td>\n      <td>1.444234</td>\n      <td>10.003941</td>\n      <td>0.159533</td>\n      <td>658.831388</td>\n      <td>2.359274</td>\n      <td>0.286641</td>\n      <td>0.162571</td>\n    </tr>\n    <tr>\n      <th>Mrs</th>\n      <td>37.034884</td>\n      <td>2.511811</td>\n      <td>23.896996</td>\n      <td>0.824121</td>\n      <td>685.673367</td>\n      <td>1.929648</td>\n      <td>0.658291</td>\n      <td>0.795276</td>\n    </tr>\n    <tr>\n      <th>Other</th>\n      <td>44.923077</td>\n      <td>1.222222</td>\n      <td>24.523034</td>\n      <td>0.153846</td>\n      <td>714.923077</td>\n      <td>1.615385</td>\n      <td>0.230769</td>\n      <td>0.111111</td>\n    </tr>\n  </tbody>\n</table>\n</div>"
          },
          "metadata": {}
        }
      ]
    },
    {
      "metadata": {
        "trusted": true,
        "_uuid": "f18bd492ae283321b2e5f6028b32d73c0a06c086"
      },
      "cell_type": "code",
      "source": "",
      "execution_count": 64,
      "outputs": []
    },
    {
      "metadata": {
        "trusted": true,
        "_uuid": "6471804ecf848850dae79ae2c5ae11fc96a8937f"
      },
      "cell_type": "code",
      "source": "df_train.loc[(df_train['Initial'] == 'Mr'),'Age'].head()",
      "execution_count": 66,
      "outputs": [
        {
          "output_type": "execute_result",
          "execution_count": 66,
          "data": {
            "text/plain": "0     22.0\n4     35.0\n5     33.0\n6     54.0\n12    20.0\nName: Age, dtype: float64"
          },
          "metadata": {}
        }
      ]
    },
    {
      "metadata": {
        "trusted": true,
        "_uuid": "1288b2d6659194232d164459db6c81dc3ce0461d"
      },
      "cell_type": "code",
      "source": "df_train.loc[(df_train['Age'].isnull()) & (df_train['Initial'] == 'Mr'), 'Age'] = 33\ndf_train.loc[(df_train['Age'].isnull()) & (df_train['Initial'] == 'Mrs'), 'Age'] = 37\ndf_train.loc[(df_train['Age'].isnull()) & (df_train['Initial'] == 'Master'), 'Age'] = 5\ndf_train.loc[(df_train['Age'].isnull()) & (df_train['Initial'] == 'Miss'), 'Age'] = 22\ndf_train.loc[(df_train['Age'].isnull()) & (df_train['Initial'] == 'Other'), 'Age'] = 45\n\ndf_test.loc[(df_train['Age'].isnull()) & (df_test['Initial'] == 'Mr'), 'Age'] = 33\ndf_test.loc[(df_train['Age'].isnull()) & (df_test['Initial'] == 'Mrs'), 'Age'] = 37\ndf_test.loc[(df_train['Age'].isnull()) & (df_test['Initial'] == 'Master'), 'Age'] = 5\ndf_test.loc[(df_train['Age'].isnull()) & (df_test['Initial'] == 'Miss'), 'Age'] = 22\ndf_test.loc[(df_train['Age'].isnull()) & (df_test['Initial'] == 'Other'), 'Age'] = 45",
      "execution_count": 67,
      "outputs": []
    },
    {
      "metadata": {
        "trusted": true,
        "_uuid": "88ed3e0e7e763a932ccdfc8ae9e19358309d90e9"
      },
      "cell_type": "code",
      "source": "df_train['Age'].isnull().sum()\n",
      "execution_count": 68,
      "outputs": [
        {
          "output_type": "execute_result",
          "execution_count": 68,
          "data": {
            "text/plain": "0"
          },
          "metadata": {}
        }
      ]
    },
    {
      "metadata": {
        "trusted": true,
        "_uuid": "98b6a5c8c46c72f90f54b98202f85afaac0e17b7"
      },
      "cell_type": "code",
      "source": "df_train['Age'].isnull().sum()",
      "execution_count": 69,
      "outputs": [
        {
          "output_type": "execute_result",
          "execution_count": 69,
          "data": {
            "text/plain": "0"
          },
          "metadata": {}
        }
      ]
    },
    {
      "metadata": {
        "trusted": true,
        "_uuid": "de43540406cb392effcde5f0c3fa9f970a81b383"
      },
      "cell_type": "code",
      "source": "",
      "execution_count": null,
      "outputs": []
    }
  ],
  "metadata": {
    "kernelspec": {
      "display_name": "Python 3",
      "language": "python",
      "name": "python3"
    },
    "language_info": {
      "name": "python",
      "version": "3.6.6",
      "mimetype": "text/x-python",
      "codemirror_mode": {
        "name": "ipython",
        "version": 3
      },
      "pygments_lexer": "ipython3",
      "nbconvert_exporter": "python",
      "file_extension": ".py"
    }
  },
  "nbformat": 4,
  "nbformat_minor": 1
}