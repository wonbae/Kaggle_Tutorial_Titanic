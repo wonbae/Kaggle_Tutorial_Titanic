{
  "cells": [
    {
      "metadata": {
        "_uuid": "8f2839f25d086af736a60e9eeb907d3b93b6e0e5",
        "_cell_guid": "b1076dfc-b9ad-4769-8c92-a6c4dae69d19",
        "trusted": true
      },
      "cell_type": "code",
      "source": "import numpy as np\nimport pandas as pd\nfrom pandas import Series\nimport matplotlib.pyplot as plt\nimport seaborn as sns\n\nplt.style.use('seaborn')\nsns.set(font_scale=2.5) \n# 이 두줄은 본 필자가 항상 쓰는 방법입니다. matplotlib 의 기본 scheme 말고 \n# seaborn scheme 을 세팅하고, 일일이 graph 의 font size 를 지정할 필요 없이 seaborn 의 font_scale 을 사용하면 편합니다.\nimport plotly.offline as py\npy.init_notebook_mode(connected=True)\nimport plotly.graph_objs as go\nimport plotly.tools as tls\nimport missingno as msno\n\n#ignore warnings\nimport warnings\nwarnings.filterwarnings('ignore')\n\n\n\n%matplotlib inline\n\ndf_train = pd.read_csv('../input/train.csv')\ndf_test = pd.read_csv('../input/test.csv')\n\n",
      "execution_count": null,
      "outputs": []
    },
    {
      "metadata": {
        "trusted": true,
        "_uuid": "b231eb84b95149d0f2796b450a2b911b2baa140e"
      },
      "cell_type": "code",
      "source": "df_train",
      "execution_count": null,
      "outputs": []
    },
    {
      "metadata": {
        "trusted": true,
        "_uuid": "9e83e49f9701bed6a886b1328a79e53c6f1d66a8"
      },
      "cell_type": "code",
      "source": "for col in df_train.columns:\n    msg = 'colums: {:<10} \\t Percent of NaN value: {:2f}%'.format(col, 100 * (df_train[col].isnull().sum() / df_train[col].shape[0]))\n    print(msg)\n",
      "execution_count": null,
      "outputs": []
    },
    {
      "metadata": {
        "trusted": true,
        "_uuid": "da2b198b53713a57e90c244fb4281768ba64ea38"
      },
      "cell_type": "code",
      "source": "for col in df_test.columns:\n    msg = 'colums: {:>10} \\t Percent of NaN value: {:2f}%'.format(col, 100 * (df_test[col].isnull().sum() / df_test[col].shape[0]))\n    print(msg)\n",
      "execution_count": null,
      "outputs": []
    },
    {
      "metadata": {
        "trusted": true,
        "_uuid": "4ff072841ccd1acbafcd884f0d3e0650058d9d0d"
      },
      "cell_type": "code",
      "source": "msno.matrix(df=df_train.iloc[:, :], figsize=(8, 8), color=(0.2, 0.5, 0.2))",
      "execution_count": null,
      "outputs": []
    },
    {
      "metadata": {
        "trusted": true,
        "_uuid": "368dc9cdedb3de08622096875e27e3d87c2c7d2a"
      },
      "cell_type": "code",
      "source": "msno.bar(df=df_train.iloc[:, :], figsize=(8, 8), color=(0.2, 0.3, 0.2))",
      "execution_count": null,
      "outputs": []
    },
    {
      "metadata": {
        "trusted": true,
        "_uuid": "1f17c096805d4c42bb1cda20c7deb666adfd001c"
      },
      "cell_type": "code",
      "source": "f, ax = plt.subplots(1,2,figsize=(18,8))#도화지\n\ndf_train['Survived'].value_counts().plot.pie(explode=[0, 0.1], autopct = '%1.1f%%', ax=ax[0], shadow=True)\nax[0].set_title('Pie plot - Survived')\nax[0].set_ylabel('')\n\nsns.countplot('Survived', data = df_train, ax=ax[1])\nax[1].set_title('Count plot - Survived')\nplt.show()",
      "execution_count": null,
      "outputs": []
    },
    {
      "metadata": {
        "trusted": true,
        "_uuid": "fd6e7bd17d3901b203ff27a3a88770f31d188fa3"
      },
      "cell_type": "code",
      "source": "df_train['Survived'].value_counts().plot().pie(explode)",
      "execution_count": null,
      "outputs": []
    },
    {
      "metadata": {
        "trusted": true,
        "_uuid": "827540e5b6d65994f8fe97ccca2c94a09e091d37"
      },
      "cell_type": "code",
      "source": "plt.plot(df_train['Survived'].value_counts())",
      "execution_count": null,
      "outputs": []
    },
    {
      "metadata": {
        "trusted": true,
        "_uuid": "daf723559d8d20f37ccd8ae28d41621d52977124"
      },
      "cell_type": "markdown",
      "source": "2.1 Pclass"
    },
    {
      "metadata": {
        "trusted": true,
        "_uuid": "a093e2ce3c8981c900774f0d7d6a6a9017e2d394"
      },
      "cell_type": "code",
      "source": "df_train[['Pclass', 'Survived']].groupby(['Pclass'], as_index = True).count()",
      "execution_count": null,
      "outputs": []
    },
    {
      "metadata": {
        "trusted": true,
        "_uuid": "cda661c200e8180deb45b147393252d247d05485"
      },
      "cell_type": "code",
      "source": "df_train[['Pclass', 'Survived']].groupby(['Pclass']).sum()",
      "execution_count": null,
      "outputs": []
    },
    {
      "metadata": {
        "trusted": true,
        "_uuid": "50ed78593e8f27edd23826de628f3eb500a96db0"
      },
      "cell_type": "code",
      "source": "pd.crosstab(df_train['Pclass'], df_train[\"Survived\"], margins=True).style.background_gradient(cmap='cool')",
      "execution_count": null,
      "outputs": []
    },
    {
      "metadata": {
        "trusted": true,
        "_uuid": "96dec0ddb6f301cfe0f34a913bce3c3d3d6256d5"
      },
      "cell_type": "code",
      "source": "# df_train[['Pclass', 'Survived']].groupby(['Pclass'], as_index=True).mean().sort_values(by='Survived', ascending=False).plot().bar()",
      "execution_count": null,
      "outputs": []
    },
    {
      "metadata": {
        "trusted": true,
        "_uuid": "88ba6ee81a145af70807df9635643ff43619f827"
      },
      "cell_type": "code",
      "source": "y_position = 1.02\nf, ax = plt.subplots(1,2, figsize=(18,8))\ndf_train['Pclass'].value_counts().plot.bar(color=['#CD7F32', '#FFDF00', '#D3D3D3'], ax=ax[0])\nax[0].set_title('Number of passengers by Pclass', y = y_position)\nax[0].set_ylabel('Count')\nsns.countplot('Pclass', hue='Survived', data = df_train, ax=ax[1])\nax[1].set_title('Pclass : Survived vs Dead', y = y_position)\nplt.show()",
      "execution_count": null,
      "outputs": []
    },
    {
      "metadata": {
        "_uuid": "4a55f8296ddabd48a299a3ebac14195665f6741c"
      },
      "cell_type": "markdown",
      "source": "2.2 Sex"
    },
    {
      "metadata": {
        "trusted": true,
        "_uuid": "0a613379e213692918b3e80fce1d449e20587b9a"
      },
      "cell_type": "code",
      "source": "f, ax = plt.subplots(1,2, figsize=(18,8))\ndf_train[['Sex','Survived']].groupby(['Sex'], as_index=True).mean().plot.bar(ax=ax[0])\nax[0].set_title('Survived vs Sex')\n\nsns.countplot('Sex', hue='Survived', data = df_train, ax=ax[1])\nax[1].set_title('Sex: Survived vs Dead')\nplt.show()",
      "execution_count": null,
      "outputs": []
    },
    {
      "metadata": {
        "trusted": true,
        "_uuid": "1ed56f5df5275d6d13c9d4db33c489c7b1402e6e"
      },
      "cell_type": "code",
      "source": "pd.crosstab(df_train['Sex'], df_train['Survived'], margins=True).style.background_gradient(cmap='summer_r')",
      "execution_count": null,
      "outputs": []
    },
    {
      "metadata": {
        "_uuid": "4e39ebd2103874970e023855bf078dd944500fec"
      },
      "cell_type": "markdown",
      "source": "2.2 Both Pclass and Sex\n"
    },
    {
      "metadata": {
        "trusted": true,
        "_uuid": "907f152ef09c194de4abccdc2e0d0accae2ffa78"
      },
      "cell_type": "code",
      "source": "sns.factorplot('Pclass','Survived',hue='Sex',data = df_train, size=6, aspect=1.5)",
      "execution_count": null,
      "outputs": []
    },
    {
      "metadata": {
        "_uuid": "e3e800d815f0d26e81a2d739f19e5cb709097394"
      },
      "cell_type": "markdown",
      "source": "1. Lady first\n2. Money brings survival?"
    },
    {
      "metadata": {
        "trusted": true,
        "_uuid": "7bc98cb42be016d69367c0a9210f5689a8ec540b"
      },
      "cell_type": "code",
      "source": "sns.factorplot(x='Sex', y='Survived', col = 'Pclass', data=df_train, saturation = 5,size=9, aspect = 1)",
      "execution_count": null,
      "outputs": []
    },
    {
      "metadata": {
        "trusted": true,
        "_uuid": "04d907390d9eee722019dda9f09d5ab08ef74a7b"
      },
      "cell_type": "code",
      "source": "sns.factorplot(x='Sex', y='Survived', hue = 'Pclass', data=df_train, saturation = 5,size=9, aspect = 1)",
      "execution_count": null,
      "outputs": []
    },
    {
      "metadata": {
        "_uuid": "34d56c1ee455df4fc08d1ddfc5494227524cb15a"
      },
      "cell_type": "markdown",
      "source": "2.3. Age"
    },
    {
      "metadata": {
        "trusted": true,
        "_uuid": "d66feb9fcceeeb9f80b1beb87fc8a613a983184c"
      },
      "cell_type": "code",
      "source": "print('제일 나이 많은 탑승객 : {:.1f} years'.format(df_train['Age'].max()))\nprint('제일 어린 탑승객: {:.1f} Years'.format(df_train['Age'].min()))\nprint('탑승객 평균 나이 : {:.1f} Years'.format(df_train['Age'].mean()))",
      "execution_count": null,
      "outputs": []
    },
    {
      "metadata": {
        "trusted": true,
        "_uuid": "b344b8aec476a5e5c469cca6e73dd96718679068"
      },
      "cell_type": "code",
      "source": "fig, ax = plt.subplots(1,1,figsize=(9,5))\nsns.kdeplot(df_train[df_train['Survived'] == 1]['Age'], ax = ax)\nsns.kdeplot(df_train[df_train['Survived'] == 0]['Age'], ax = ax)\nplt.legend(['Survied == 1', 'Survived == 0'])\nplt.show()",
      "execution_count": null,
      "outputs": []
    },
    {
      "metadata": {
        "trusted": true,
        "_uuid": "12e5e373f07e69f84bc7535a1440c1a251dabde0"
      },
      "cell_type": "code",
      "source": "df_train[df_train['Survived'] == 1]['Age'].hist()",
      "execution_count": null,
      "outputs": []
    },
    {
      "metadata": {
        "trusted": true,
        "_uuid": "d4c80599081e2525005d2231fece8ffefecb7d55"
      },
      "cell_type": "code",
      "source": "sns.kdeplot(df_train[df_train['Survived'] == 1]['Age'])\nplt.show()",
      "execution_count": null,
      "outputs": []
    },
    {
      "metadata": {
        "trusted": true,
        "_uuid": "f3e0cb5ce62be97fb2ef6734ac4a89851652a5fe"
      },
      "cell_type": "code",
      "source": "f = plt.figure(figsize = (5,5))\n\nf, ax = plt.subplots(1,1,figsize=(5,5))\n\nplt.figure(figsize=(10,10))",
      "execution_count": null,
      "outputs": []
    },
    {
      "metadata": {
        "trusted": true,
        "_uuid": "a4b15281670f8aaced4cfac959df3ebf65ef3bad"
      },
      "cell_type": "code",
      "source": "f = plt.figure(figsize=(5,5))\na = np.arange(100)\nb = np.sin(a)\n\nplt.plot(b)",
      "execution_count": null,
      "outputs": []
    },
    {
      "metadata": {
        "trusted": true,
        "_uuid": "d03b9d4ce724a94ffe54ca6a914ad3bd1d17f2a2"
      },
      "cell_type": "code",
      "source": "f, ax = plt.subplots(1,1,figsize=(5,5))\na = np.arange(100)\nb = np.sin(a)\n\nax.plot(b)",
      "execution_count": null,
      "outputs": []
    },
    {
      "metadata": {
        "trusted": true,
        "_uuid": "aa960698741c16617ed329ec7ec1c59064ac7af2"
      },
      "cell_type": "code",
      "source": "plt.figure(figsize=(5,5))\na = np.arange(100)\nb = np.sin(a)\n\nplt.plot(b)",
      "execution_count": null,
      "outputs": []
    },
    {
      "metadata": {
        "trusted": true,
        "_uuid": "472ad96c8cc3c1a84f6b083c61c09281fd038117"
      },
      "cell_type": "code",
      "source": "plt.figure(figsize=(8,6))\ndf_train['Age'][df_train['Pclass'] == 1].plot(kind = 'kde')\ndf_train['Age'][df_train['Pclass'] == 2].plot(kind = 'kde')\ndf_train['Age'][df_train['Pclass'] == 3].plot(kind = 'kde')\n\nplt.xlabel('Age')\nplt.title('Age Distribution within classes')\nplt.legend(['1st Class','2nd Class','3rd Class'])",
      "execution_count": null,
      "outputs": []
    },
    {
      "metadata": {
        "trusted": true,
        "_uuid": "7e11d187b1a2443f21bb5c822288fe4be58dfc04"
      },
      "cell_type": "code",
      "source": "fig, ax = plt.subplots(1,1,figsize=(9,5))\nsns.kdeplot(df_train[(df_train['Survived'] == 0) & (df_train['Pclass'] == 1)]['Age'], ax = ax)\nsns.kdeplot(df_train[(df_train['Survived'] == 1) & (df_train['Pclass'] == 1)]['Age'], ax = ax)\nplt.legend(['Survied == 0', 'Survived == 1'])\nplt.show()\n",
      "execution_count": null,
      "outputs": []
    },
    {
      "metadata": {
        "trusted": true,
        "_uuid": "6ab73586a0d7fd6c97c6434c8e53eacd6cddcdd9"
      },
      "cell_type": "code",
      "source": "fig, ax = plt.subplots(1,1,figsize=(9,5))\nsns.kdeplot(df_train[(df_train['Survived'] == 0) & (df_train['Pclass'] == 2)]['Age'], ax = ax)\nsns.kdeplot(df_train[(df_train['Survived'] == 1) & (df_train['Pclass'] == 2)]['Age'], ax = ax)\nplt.legend(['Survied == 0', 'Survived == 1'])\nplt.show()\n",
      "execution_count": null,
      "outputs": []
    },
    {
      "metadata": {
        "trusted": true,
        "_uuid": "565e4f4d646dbab1614b9497aeac0b44ef9578c7"
      },
      "cell_type": "code",
      "source": "fig, ax = plt.subplots(1,1,figsize=(9,5))\nsns.kdeplot(df_train[(df_train['Survived'] == 0) & (df_train['Pclass'] == 3)]['Age'], ax = ax)\nsns.kdeplot(df_train[(df_train['Survived'] == 1) & (df_train['Pclass'] == 3)]['Age'], ax = ax)\nplt.legend(['Survied == 0', 'Survived == 1'])\nplt.show()\n",
      "execution_count": null,
      "outputs": []
    },
    {
      "metadata": {
        "_uuid": "9b526491ea6ee4e772d11a44179797b61b6cb3e5"
      },
      "cell_type": "markdown",
      "source": "- 1~80 살 까지 (i) 생존확률의 변화"
    },
    {
      "metadata": {
        "trusted": true,
        "_uuid": "c1ada000898f04542bef5c129895feb40d509ab7"
      },
      "cell_type": "code",
      "source": "change_age_range_survival_ratio = []\n\nfor i in range(1,80):\n    change_age_range_survival_ratio.append(df_train[df_train['Age'] < i]['Survived'].sum() / len(df_train[df_train['Age'] < i]['Survived']))\n    \n\nplt.figure(figsize=(7,7))\nplt.plot(change_age_range_survival_ratio)\nplt.title('Survival rate change depending on range of Age', y=1.02)\nplt.ylabel('Survival rate')\nplt.xlabel('Range of Age(0~x)')\nplt.show()",
      "execution_count": null,
      "outputs": []
    },
    {
      "metadata": {
        "_uuid": "91a002282c364ff056558b9a40a0a8f36534e642"
      },
      "cell_type": "markdown",
      "source": "## Pclass, Sex, Age\n---\n\n"
    },
    {
      "metadata": {
        "trusted": true,
        "_uuid": "205454da705436f87fe0c847c128382f741183fd"
      },
      "cell_type": "code",
      "source": "f, ax = plt.subplots(1,2,figsize=(18,8))\nsns.violinplot('Pclass', 'Age', hue = 'Survived', data=df_train, scale=\"count\",split=True, ax=ax[0])\nax[0].set_title('Pclass and Age vs Survived')\nax[0].set_yticks(range(0,110, 10))\n\nsns.violinplot('Sex','Age',hue='Survived',data=df_train, scale='count', split=True, ax=ax[1])\nax[1].set_title('Sex and Age vs Survived')\nax[1].set_yticks(range(0,110,10))\nplt.show()",
      "execution_count": null,
      "outputs": []
    },
    {
      "metadata": {
        "trusted": true,
        "_uuid": "3051904f5ff863b24b50b91d1bca988d20f1983a"
      },
      "cell_type": "markdown",
      "source": "## Embarked\n---\n- 탑승한 곳"
    },
    {
      "metadata": {
        "trusted": true,
        "_uuid": "b52fceaac348cb778bc2d79a0788d6c3ecff36c3"
      },
      "cell_type": "code",
      "source": "f, ax = plt.subplots(1,1,figsize=(7,7))\ndf_train[['Embarked', 'Survived']].groupby(['Embarked'], as_index=True).mean().sort_values(by='Survived',ascending = False).plot.bar(ax=ax)",
      "execution_count": null,
      "outputs": []
    },
    {
      "metadata": {
        "trusted": true,
        "_uuid": "eaac6ef420e267b64264f1503300cdcc64306832"
      },
      "cell_type": "code",
      "source": "df_train[['Embarked','Survived']].groupby(['Embarked'], as_index=True).mean().sort_values(by='Survived')",
      "execution_count": null,
      "outputs": []
    },
    {
      "metadata": {
        "trusted": true,
        "_uuid": "091d53767a127c779117c5237e31ad5233c535bc"
      },
      "cell_type": "code",
      "source": "df_train[['Embarked','Survived']].groupby(['Embarked'], as_index=True).mean().sort_index()",
      "execution_count": null,
      "outputs": []
    },
    {
      "metadata": {
        "_uuid": "80c3197eb4ead701b94fc0f8c4945d4e7b410cee"
      },
      "cell_type": "markdown",
      "source": "- Embarked를 다른 Feature와 비교"
    },
    {
      "metadata": {
        "trusted": true,
        "_uuid": "e795d2408fc279702e644f92e823061ad897d62c"
      },
      "cell_type": "code",
      "source": "f, ax = plt.subplots(2,2,figsize=(20,15))\nsns.countplot('Embarked', data=df_train, ax=ax[0,0])\nax[0,0].set_title(\"(1)No. Of Passengers Boared\")\n\nsns.countplot('Embarked', hue = 'Sex', data=df_train, ax=ax[0,1])\nax[0,1].set_title(\"(2)No. Male-Female split for embarked\")\n\nsns.countplot('Embarked', hue='Survived', data=df_train, ax=ax[1,1])\nax[1,1].set_title(\"(3)No. Embarked vs Survived\")\n\nsns.countplot('Embarked', hue = 'Pclass', data=df_train, ax=ax[1,0])\nax[1,0].set_title(\"(4)No. Embarked vs Pclass\")\n\nplt.subplots_adjust(wspace=0.2, hspace=0.5)# 1행과 2행의 간격 벌려줌\n\nplt.show()",
      "execution_count": null,
      "outputs": []
    },
    {
      "metadata": {
        "trusted": true,
        "_uuid": "dbcc662223b60c7164a0064e04d07381dfa1d8a7"
      },
      "cell_type": "markdown",
      "source": "### Family - SibSp + Parch"
    },
    {
      "metadata": {
        "trusted": true,
        "_uuid": "629d9b79d14e5e21698a9e32cfa998a2f2524d82"
      },
      "cell_type": "code",
      "source": "df_train['FamilySize'] = df_train['SibSp'] + df_train['Parch'] + 1",
      "execution_count": null,
      "outputs": []
    },
    {
      "metadata": {
        "trusted": true,
        "_uuid": "b16775fb39ea0081028e98802ecf8aded794a017"
      },
      "cell_type": "code",
      "source": "print('Maximum size of Family: ', df_train['FamilySize'].max())\nprint('Maximum size of Family: ', df_train['FamilySize'].min())",
      "execution_count": null,
      "outputs": []
    },
    {
      "metadata": {
        "trusted": true,
        "_uuid": "52930c12cb61c3b4d165eb6bf2a3583b104fed77"
      },
      "cell_type": "code",
      "source": "f, ax = plt.subplots(1,3,figsize=(40,10))\nsns.countplot('FamilySize', data = df_train, ax=ax[0])\nax[0].set_title('(1)No. Of Passenger Boarded', y=1.02)\n\nsns.countplot('FamilySize', hue = 'Survived', data=df_train, ax=ax[1])\nax[1].set_title('(2) Survived countplot depending on FamilySize', y=1.02)\n\ndf_train[['FamilySize','Survived']].groupby(['FamilySize'], as_index=True).mean().sort_values(by='Survived',ascending=False).plot.bar(ax=ax[2])\nax[2].set_title('(3) Survived rate depending on FamilySize', y=1.02)\n\nplt.subplots_adjust(wspace=0.2, hspace=0.5)\nplt.show()",
      "execution_count": null,
      "outputs": []
    },
    {
      "metadata": {
        "trusted": true,
        "_uuid": "ef03b8356bc3e53221d256b458d1d28e7e70fcb1"
      },
      "cell_type": "markdown",
      "source": "### Fare"
    },
    {
      "metadata": {
        "trusted": true,
        "_uuid": "c5f4900ff3a9693057965107a0147f477dbb2bd6"
      },
      "cell_type": "code",
      "source": "fig, ax = plt.subplots(1,1,figsize=(8,8))\ng = sns.distplot(df_train['Fare'],color='b',label='Skewness:{:.2f}'.format(df_train['Fare'].skew()), ax=ax)\ng = g.legend(loc='best')",
      "execution_count": null,
      "outputs": []
    },
    {
      "metadata": {
        "trusted": true,
        "_uuid": "8b4d17e4a295a1337a2854ef35495ec8913e09f0"
      },
      "cell_type": "code",
      "source": "df_train['Fare'] = df_train['Fare'].map(lambda i : np.log(i) if i > 0 else 0)",
      "execution_count": null,
      "outputs": []
    },
    {
      "metadata": {
        "trusted": true,
        "_uuid": "66d14c5fc7e25da290054cab47bcaf3ece1172d4"
      },
      "cell_type": "markdown",
      "source": "> skewness 가 0 으로 가겠금 하는 작업,  feature를 정확하게 바꾸는 작업,"
    },
    {
      "metadata": {
        "trusted": true,
        "_uuid": "416009f582cdfd50f68aa48bf770470a4cc41e3c"
      },
      "cell_type": "code",
      "source": "fig, ax = plt.subplots(1,1,figsize=(8,8))\ng = sns.distplot(df_train['Fare'],color='b',label='Skewness:{:.2f}'.format(df_train['Fare'].skew()), ax=ax)\ng = g.legend(loc='best')",
      "execution_count": null,
      "outputs": []
    },
    {
      "metadata": {
        "_uuid": "b4725e0c6864d703c4ed545f7f72fee61ac254df"
      },
      "cell_type": "markdown",
      "source": "### Ticket"
    },
    {
      "metadata": {
        "trusted": true,
        "_uuid": "f449df48cd0d51f0e47ae4ae8fc39883a3a655e4"
      },
      "cell_type": "code",
      "source": "df_train['Ticket'].value_counts()",
      "execution_count": null,
      "outputs": []
    },
    {
      "metadata": {
        "_uuid": "fa31b2bab527572ce1a074cb3ca0422a52308ab5"
      },
      "cell_type": "markdown",
      "source": "> feature engineering이 필요한 부분, 어떤 로직으로 정리할지 생각해 보자.."
    },
    {
      "metadata": {
        "_uuid": "1449fb5c42ee279fb0ee06e72e826d55ceaf11ef"
      },
      "cell_type": "markdown",
      "source": "### Feature enginering"
    },
    {
      "metadata": {
        "_uuid": "e299ae2f9f71e7428915a210c66097a44658154a"
      },
      "cell_type": "markdown",
      "source": "- null data를 어떻게 처리할 것인가.."
    },
    {
      "metadata": {
        "trusted": true,
        "_uuid": "5237f179ff42d2150e71d2cbc057fe4a7555549c"
      },
      "cell_type": "code",
      "source": "df_train['Age'].isnull().sum()",
      "execution_count": null,
      "outputs": []
    },
    {
      "metadata": {
        "trusted": true,
        "_uuid": "38e36d8984e9c0fedb93a4fc6f62ff600181d68e"
      },
      "cell_type": "code",
      "source": "df_train['Initial'] = df_train['Name'].str.extract('([A-Za-z]+)\\.')\ndf_test['Initial'] = df_test['Name'].str.extract('([A-Za-z]+)\\.')",
      "execution_count": null,
      "outputs": []
    },
    {
      "metadata": {
        "trusted": true,
        "_uuid": "3f706238a362933db9f26f909afc6fb5c2ae2889"
      },
      "cell_type": "code",
      "source": "# df_test.head()\ndf_train.head()",
      "execution_count": null,
      "outputs": []
    },
    {
      "metadata": {
        "trusted": true,
        "_uuid": "a8c9b3ff92ac58a8ed353748cd99ad73d9d357d4"
      },
      "cell_type": "code",
      "source": "pd.crosstab(df_train['Initial'], df_train['Sex']).T.style.background_gradient(cmap='summer_r')",
      "execution_count": null,
      "outputs": []
    },
    {
      "metadata": {
        "trusted": true,
        "_uuid": "111b914ebe4d3b13508e116ec10aca96740ee579"
      },
      "cell_type": "code",
      "source": "df_train['Initial'].replace(['Mlle','Mme','Ms','Dr','Major','Lady','Countess','Jonkheer','Col','Rev','Capt','Sir','Don','Dona'],\n                           ['Miss','Miss','Miss','Mr','Mr','Mrs','Mrs','Other','Other','Other','Mr','Mr','Mr','Mr'], inplace=True)\n\ndf_test['Initial'].replace(['Mlle','Mme','Ms','Dr','Major','Lady','Countess','Jonkheer','Col','Rev','Capt','Sir','Don','Dona'],\n                           ['Miss','Miss','Miss','Mr','Mr','Mrs','Mrs','Other','Other','Other','Mr','Mr','Mr','Mr'], inplace=True)\n\n",
      "execution_count": null,
      "outputs": []
    },
    {
      "metadata": {
        "trusted": true,
        "_uuid": "52ce7b346ae7f0315a48ee3d41eb6ef3f42dbd83"
      },
      "cell_type": "code",
      "source": "df_train.groupby('Initial').mean()",
      "execution_count": null,
      "outputs": []
    },
    {
      "metadata": {
        "trusted": true,
        "_uuid": "c414cbbeb29893c9b32e794982762355443d2aab"
      },
      "cell_type": "code",
      "source": "df_train.groupby('Initial')['Survived'].mean()",
      "execution_count": null,
      "outputs": []
    },
    {
      "metadata": {
        "trusted": true,
        "_uuid": "b731a968ddd79398068d8e2f7cf8286305381530"
      },
      "cell_type": "code",
      "source": "df_train.groupby('Initial')['Survived'].mean().plot.bar()",
      "execution_count": null,
      "outputs": []
    },
    {
      "metadata": {
        "trusted": true,
        "_uuid": "459d9044432c8544b1fd84d6f81720349102acf4"
      },
      "cell_type": "code",
      "source": "df_all = pd.concat([df_train, df_test])",
      "execution_count": null,
      "outputs": []
    },
    {
      "metadata": {
        "trusted": true,
        "_uuid": "dc70f01eafd5e3f542803d0ba5e51d386459421c"
      },
      "cell_type": "code",
      "source": "df_all",
      "execution_count": null,
      "outputs": []
    },
    {
      "metadata": {
        "trusted": true,
        "_uuid": "3d14f4350b67ce2294b814c93d1f5d61c66f1950"
      },
      "cell_type": "code",
      "source": "df_all.groupby('Initial').mean()",
      "execution_count": null,
      "outputs": []
    },
    {
      "metadata": {
        "trusted": true,
        "_uuid": "3f06458c045147f43915889bd42b1b7efcea5f07"
      },
      "cell_type": "code",
      "source": "df_train.loc[(df_train['Age'].isnull()) & (df_train['Initial'] == 'Mr')]",
      "execution_count": null,
      "outputs": []
    },
    {
      "metadata": {
        "trusted": true,
        "_uuid": "de08f28606ad8789dfbea824bf5142dfaded380c"
      },
      "cell_type": "code",
      "source": "df_all.groupby('Initial').mean()",
      "execution_count": null,
      "outputs": []
    },
    {
      "metadata": {
        "trusted": true,
        "_uuid": "cb3f115f49cd417e68b5350cbb512e4d94e24c06"
      },
      "cell_type": "code",
      "source": "",
      "execution_count": null,
      "outputs": []
    },
    {
      "metadata": {
        "trusted": true,
        "_uuid": "f6a91ec908351ac7edbb20a57fd50be4828df749"
      },
      "cell_type": "code",
      "source": "df_train.loc[(df_train['Initial'] == 'Mr'),'Age'].head()",
      "execution_count": null,
      "outputs": []
    },
    {
      "metadata": {
        "trusted": true,
        "_uuid": "014f3823f1e5131f337fd94f085faa05d044d857"
      },
      "cell_type": "code",
      "source": "df_train.loc[(df_train['Age'].isnull()) & (df_train['Initial'] == 'Mr'), 'Age'] = 33\ndf_train.loc[(df_train['Age'].isnull()) & (df_train['Initial'] == 'Mrs'), 'Age'] = 37\ndf_train.loc[(df_train['Age'].isnull()) & (df_train['Initial'] == 'Master'), 'Age'] = 5\ndf_train.loc[(df_train['Age'].isnull()) & (df_train['Initial'] == 'Miss'), 'Age'] = 22\ndf_train.loc[(df_train['Age'].isnull()) & (df_train['Initial'] == 'Other'), 'Age'] = 45\n\ndf_test.loc[(df_train['Age'].isnull()) & (df_test['Initial'] == 'Mr'), 'Age'] = 33\ndf_test.loc[(df_train['Age'].isnull()) & (df_test['Initial'] == 'Mrs'), 'Age'] = 37\ndf_test.loc[(df_train['Age'].isnull()) & (df_test['Initial'] == 'Master'), 'Age'] = 5\ndf_test.loc[(df_train['Age'].isnull()) & (df_test['Initial'] == 'Miss'), 'Age'] = 22\ndf_test.loc[(df_train['Age'].isnull()) & (df_test['Initial'] == 'Other'), 'Age'] = 45",
      "execution_count": null,
      "outputs": []
    },
    {
      "metadata": {
        "trusted": true,
        "_uuid": "4a74af9421e05d5d51aa180a9164f8d002d6ad40"
      },
      "cell_type": "code",
      "source": "df_train['Age'].isnull().sum()\n",
      "execution_count": null,
      "outputs": []
    },
    {
      "metadata": {
        "trusted": true,
        "_uuid": "23fa28b845dd941e89cd1c1f9eeaaff34e85c6f3"
      },
      "cell_type": "code",
      "source": "df_train['Age'].isnull().sum()",
      "execution_count": null,
      "outputs": []
    },
    {
      "metadata": {
        "_uuid": "ff8e276fab611a73b1f48b62a29ecf30c31bc7f7"
      },
      "cell_type": "markdown",
      "source": "### Feature engineering - Fill Null in Embarked and categorize Age"
    },
    {
      "metadata": {
        "trusted": true,
        "_uuid": "f4f14a52335179f3f16575abcc3abcf0b565bac2"
      },
      "cell_type": "code",
      "source": "df_train['Embarked'].isnull().sum()",
      "execution_count": null,
      "outputs": []
    },
    {
      "metadata": {
        "trusted": true,
        "_uuid": "941dc95fc51fa277dbaf4ce003e28000fcc1e8ef"
      },
      "cell_type": "code",
      "source": "df_train.shape",
      "execution_count": null,
      "outputs": []
    },
    {
      "metadata": {
        "trusted": true,
        "_uuid": "8caf84af01d2ed9f99ea68c8de7dbecf5e9f36a4"
      },
      "cell_type": "code",
      "source": "df_train['Embarked'].fillna('S', inplace=True)",
      "execution_count": null,
      "outputs": []
    },
    {
      "metadata": {
        "trusted": true,
        "_uuid": "b37653667fa237f696c460e70e8ac14ae85af711"
      },
      "cell_type": "code",
      "source": "df_train['Embarked'].isnull().sum()",
      "execution_count": null,
      "outputs": []
    },
    {
      "metadata": {
        "trusted": true,
        "_uuid": "5ba87c27ec5f04cb07d342c09393e8c9d54c67db"
      },
      "cell_type": "code",
      "source": "df_train['Age_cat'] = 0",
      "execution_count": null,
      "outputs": []
    },
    {
      "metadata": {
        "trusted": true,
        "_uuid": "7e88a5b0b8c73ca5ac9cc524d6f18a4f63f91a1f"
      },
      "cell_type": "code",
      "source": "df_train.head()",
      "execution_count": null,
      "outputs": []
    },
    {
      "metadata": {
        "trusted": true,
        "_uuid": "ac80624a983eedae7b99e6bb4c1c75c2fd740c1d"
      },
      "cell_type": "code",
      "source": "df_train.loc[df_train['Age'] < 10, 'Age_cat'] = 0\ndf_train.loc[(10 <= df_train['Age']) & (df_train['Age'] < 20), 'Age_cat'] = 1\ndf_train.loc[(20 <= df_train['Age']) & (df_train['Age'] < 30), 'Age_cat'] = 2\ndf_train.loc[(30 <= df_train['Age']) & (df_train['Age'] < 40), 'Age_cat'] = 3\ndf_train.loc[(40 <= df_train['Age']) & (df_train['Age'] < 50), 'Age_cat'] = 4\ndf_train.loc[(50 <= df_train['Age']) & (df_train['Age'] < 60), 'Age_cat'] = 5\ndf_train.loc[(60 <= df_train['Age']) & (df_train['Age'] < 70), 'Age_cat'] = 6\ndf_train.loc[(70 <= df_train['Age']), 'Age_cat'] = 7\n",
      "execution_count": null,
      "outputs": []
    },
    {
      "metadata": {
        "trusted": true,
        "_uuid": "97f0c28bf33f54223b895f5258effae8135fec8c"
      },
      "cell_type": "code",
      "source": "df_test.loc[df_test['Age'] < 10, 'Age_cat'] = 0\ndf_test.loc[(10 <= df_test['Age']) & (df_test['Age'] < 20), 'Age_cat'] = 1\ndf_test.loc[(20 <= df_test['Age']) & (df_test['Age'] < 30), 'Age_cat'] = 2\ndf_test.loc[(30 <= df_test['Age']) & (df_test['Age'] < 40), 'Age_cat'] = 3\ndf_test.loc[(40 <= df_test['Age']) & (df_test['Age'] < 50), 'Age_cat'] = 4\ndf_test.loc[(50 <= df_test['Age']) & (df_test['Age'] < 60), 'Age_cat'] = 5\ndf_test.loc[(60 <= df_test['Age']) & (df_test['Age'] < 70), 'Age_cat'] = 6\ndf_test.loc[(70 <= df_test['Age']), 'Age_cat'] = 7\n",
      "execution_count": null,
      "outputs": []
    },
    {
      "metadata": {
        "trusted": true,
        "_uuid": "e2df07a17858b6acc019dc641ce13ba017f24b68"
      },
      "cell_type": "code",
      "source": "df_train.head()",
      "execution_count": null,
      "outputs": []
    },
    {
      "metadata": {
        "trusted": true,
        "_uuid": "f902f11392e40c74a08e1af2af01cad35565bf48"
      },
      "cell_type": "code",
      "source": "def category_age(x):\n    if x < 10:\n        return 0\n    elif x < 20:\n        return 1\n    elif x <30:\n        return 2\n    elif x < 40:\n        return 3\n    elif x < 50:\n        return 4\n    elif x < 60:\n        return 5\n    elif x < 70:\n        return 6\n    else:\n        return 7",
      "execution_count": null,
      "outputs": []
    },
    {
      "metadata": {
        "trusted": true,
        "_uuid": "2f06554da84499165bc2cb7cbf95ffb484cb6716"
      },
      "cell_type": "code",
      "source": "df_train['Age_cat_2'] = df_train['Age'].apply(category_age)",
      "execution_count": null,
      "outputs": []
    },
    {
      "metadata": {
        "trusted": true,
        "_uuid": "8536c501691a30724b610233e8c1f9c737b68c3e"
      },
      "cell_type": "code",
      "source": "(df_train['Age_cat'] == df_train['Age_cat_2']).all()",
      "execution_count": null,
      "outputs": []
    },
    {
      "metadata": {
        "_uuid": "83e2349ef4dd49034624861de9e6c098f056aec0"
      },
      "cell_type": "markdown",
      "source": " - any() : 하나라도 같으면 True\n - all() : 모두 같을대만 True 반환"
    },
    {
      "metadata": {
        "trusted": true,
        "_uuid": "fb757700b4c30e757fc54dddad445b5198bcc211"
      },
      "cell_type": "code",
      "source": "df_train.drop(['Age','Age_cat_2'], axis=1,inplace =True)\ndf_test.drop(['Age'],axis=1,inplace=True)",
      "execution_count": null,
      "outputs": []
    },
    {
      "metadata": {
        "trusted": true,
        "_uuid": "4e4298fd7b0aa808961525d407dcc3718fbb3718"
      },
      "cell_type": "code",
      "source": "df_train.head()",
      "execution_count": null,
      "outputs": []
    },
    {
      "metadata": {
        "_uuid": "25e1b79712fa85f04dfff3a82cf16b90fc5d27bf"
      },
      "cell_type": "markdown",
      "source": "### String to Categorical and Person coefficient"
    },
    {
      "metadata": {
        "trusted": true,
        "_uuid": "7bb5e96653e1d10a39592107bdcd9b8ae3a2a7a8"
      },
      "cell_type": "code",
      "source": "df_train.Initial.unique()",
      "execution_count": null,
      "outputs": []
    },
    {
      "metadata": {
        "trusted": true,
        "_uuid": "52a378016364f6033384cd6561c89204dbfef0cd"
      },
      "cell_type": "code",
      "source": "df_train['Initial'] = df_train['Initial'].map({'Master':0, 'Miss' : 1, 'Mr' : 2, 'Mrs' : 3, 'Other': 4})\ndf_test['Initial'] = df_train['Initial'].map({'Master':0, 'Miss' : 1, 'Mr' : 2, 'Mrs' : 3, 'Other': 4})",
      "execution_count": null,
      "outputs": []
    },
    {
      "metadata": {
        "trusted": true,
        "_uuid": "5768b57353be55896f05335a1b7ff66662af0010"
      },
      "cell_type": "code",
      "source": "df_train.Embarked.unique()\n# type(df_train.Embarked.unique()) --> numpy.array",
      "execution_count": null,
      "outputs": []
    },
    {
      "metadata": {
        "trusted": true,
        "_uuid": "365c7cbf9f9140a21bef12243e70731a4ec86e0b"
      },
      "cell_type": "code",
      "source": "df_train['Embarked'].value_counts()\n# type(df_train['Embarked'].value_counts()) --> Series",
      "execution_count": null,
      "outputs": []
    },
    {
      "metadata": {
        "trusted": true,
        "_uuid": "1b818cdfc1adeb3d98a148cc8e2df9e3a6abc02f"
      },
      "cell_type": "code",
      "source": "df_train['Embarked'] = df_train['Embarked'].map({'C':0,'Q':1,'S':2})\ndf_test['Embarked'] = df_test['Embarked'].map({'C':0,'Q':1,'S':2})",
      "execution_count": null,
      "outputs": []
    },
    {
      "metadata": {
        "trusted": true,
        "_uuid": "890c8ebb34b801f366a4b7b4f19e837d329cfaa3"
      },
      "cell_type": "code",
      "source": "df_train.head()",
      "execution_count": null,
      "outputs": []
    },
    {
      "metadata": {
        "trusted": true,
        "_uuid": "9e6ee4ba31902862872ebc9e3514a43408c84ae0"
      },
      "cell_type": "code",
      "source": "df_train.Embarked.isnull().any()",
      "execution_count": null,
      "outputs": []
    },
    {
      "metadata": {
        "trusted": true,
        "_uuid": "ac13cbda7d5b58146d4e65da07b21cf9a1198474"
      },
      "cell_type": "code",
      "source": "df_train['Sex'].unique()",
      "execution_count": null,
      "outputs": []
    },
    {
      "metadata": {
        "trusted": true,
        "_uuid": "fe7affe3b21ac5027a3f6aff13bca82e632fa3fc"
      },
      "cell_type": "code",
      "source": "df_train['Sex'] = df_train['Sex'].map({'female':0,'male':1})\ndf_test['Sex'] = df_test['Sex'].map({'female':0,'male':1})",
      "execution_count": null,
      "outputs": []
    },
    {
      "metadata": {
        "trusted": true,
        "_uuid": "23af654e58aa3a6a596f952c3135673ee8b40106"
      },
      "cell_type": "code",
      "source": "heatmap_data = df_train[['Survived','Pclass','Sex','Fare','Embarked','FamilySize','Initial','Age_cat']]",
      "execution_count": null,
      "outputs": []
    },
    {
      "metadata": {
        "trusted": true,
        "_uuid": "22fdaa1c1b684b04fbcfe8acbe49653fee8677d8"
      },
      "cell_type": "code",
      "source": "heatmap_data.corr()",
      "execution_count": null,
      "outputs": []
    },
    {
      "metadata": {
        "trusted": true,
        "_uuid": "48e8ea7ece80e761fd188aa199fe9bb16e2a8b62"
      },
      "cell_type": "code",
      "source": "colormap = plt.cm.BuGn\nplt.figure(figsize=(12,10))\nplt.title('Person Correalation of Features', y=1.05, size=15)\nsns.heatmap(heatmap_data.astype(float).corr(), linewidths=0.1, vmax=1.0,\n           square=True, cmap=colormap, linecolor='white', annot=True, annot_kws={'size': 16})",
      "execution_count": null,
      "outputs": []
    },
    {
      "metadata": {
        "trusted": true,
        "_uuid": "0ba88c5bfc79e6f383e05c80fabe8e81c158cc47"
      },
      "cell_type": "markdown",
      "source": "### One-hot encoding"
    },
    {
      "metadata": {
        "_uuid": "b96703049b0ee3742c1e97f828d95aba812a29c5"
      },
      "cell_type": "markdown",
      "source": "- colum을 더 만들어서 모델의 성능을 높이기 위한 방법이다."
    },
    {
      "metadata": {
        "trusted": true,
        "_uuid": "f1bcec95d7e3b52111218a42efeab911f3291ad3"
      },
      "cell_type": "code",
      "source": "df_train.head()",
      "execution_count": null,
      "outputs": []
    },
    {
      "metadata": {
        "trusted": true,
        "_uuid": "3220ac7f9dc15b6073e44481741c7e1a76ad2a55"
      },
      "cell_type": "code",
      "source": "df_train = pd.get_dummies(df_train, columns=['Initial'],prefix='Initial')\ndf_test = pd.get_dummies(df_test, columns=['Initial'],prefix='Initial')",
      "execution_count": null,
      "outputs": []
    },
    {
      "metadata": {
        "trusted": true,
        "_uuid": "4931c23ce86fe195641e0317a68b44d63fe8b627"
      },
      "cell_type": "code",
      "source": "df_train = pd.get_dummies(df_train, columns=['Embarked'], prefix='Embarked')\ndf_test =  pd.get_dummies(df_test, columns=['Embarked'], prefix='Embarked')",
      "execution_count": null,
      "outputs": []
    },
    {
      "metadata": {
        "_uuid": "cde554004455337678d37f336401db4c1034d4af"
      },
      "cell_type": "markdown",
      "source": "- 안쓰는 컬럼들을 날려줘야한다, 정리해야한다"
    },
    {
      "metadata": {
        "trusted": true,
        "_uuid": "83aa44a4234de9c974d611c3993a44bc30cddf46"
      },
      "cell_type": "code",
      "source": "df_train.head()",
      "execution_count": null,
      "outputs": []
    },
    {
      "metadata": {
        "trusted": true,
        "_uuid": "cbd0620a9ca3319d4d08d94a12107d54ba72bf5a"
      },
      "cell_type": "code",
      "source": "df_train.drop(['PassengerId','Name','SibSp','Parch','Ticket','Cabin'], axis=1, inplace=True)\ndf_test.drop(['PassengerId','Name','SibSp','Parch','Ticket','Cabin'], axis=1, inplace=True)",
      "execution_count": null,
      "outputs": []
    },
    {
      "metadata": {
        "trusted": true,
        "_uuid": "5acaa1f370eb3852fc6d7d01aec7f9963f5b0548"
      },
      "cell_type": "code",
      "source": "df_train.head()",
      "execution_count": null,
      "outputs": []
    },
    {
      "metadata": {
        "_uuid": "3aaec5af3274d4ef4b886d3ef8c456e987660308"
      },
      "cell_type": "markdown",
      "source": "> EDA ->  fill in Null -> Feature Engineering -> cleaning"
    },
    {
      "metadata": {
        "trusted": true,
        "_uuid": "662d82cd1739f8802237fea60e5627f33975b6e7"
      },
      "cell_type": "code",
      "source": "from sklearn.ensemble import RandomForestClassifier\nfrom sklearn import metrics\nfrom sklearn.model_selection import train_test_split",
      "execution_count": null,
      "outputs": []
    },
    {
      "metadata": {
        "trusted": true,
        "_uuid": "490576824fb009ec1ee104c5decaa0b3a9a51cad"
      },
      "cell_type": "code",
      "source": "X_train = df_train.drop('Survived',axis=1).values\ntarget_label = df_train['Survived'].values\nX_test = df_train.values",
      "execution_count": null,
      "outputs": []
    },
    {
      "metadata": {
        "trusted": true,
        "_uuid": "c05af3c3a4105dc7b114f4765a34158ba0299ec3"
      },
      "cell_type": "code",
      "source": "df_train.shape",
      "execution_count": null,
      "outputs": []
    },
    {
      "metadata": {
        "trusted": true,
        "_uuid": "0487a9469ab4e744f373bab107885a2f2f78ebbc"
      },
      "cell_type": "code",
      "source": "X_tr, X_vid, y_tr, y_vid = train_test_split(X_train, target_label, test_size=0.3, random_state=2018)",
      "execution_count": null,
      "outputs": []
    },
    {
      "metadata": {
        "_uuid": "110a7ff40dcfb8ab892ecb901aea3cd1702292f2"
      },
      "cell_type": "markdown",
      "source": "- 파라미터 튜닝이 중요하다 이에 따라 알고리즘 성능이 차이가 난다, 많은 경험을 해봐야한다, "
    },
    {
      "metadata": {
        "trusted": true,
        "_uuid": "a100ebc2c9a7af368d904d6e67273e08a1984178"
      },
      "cell_type": "code",
      "source": "model = RandomForestClassifier()\nmodel.fit(X_tr, y_tr)",
      "execution_count": null,
      "outputs": []
    },
    {
      "metadata": {
        "trusted": true,
        "_uuid": "e0a28bc198f60b855516795b311ba59fcdbe7748"
      },
      "cell_type": "code",
      "source": "prediction = model.predict(X_vid)",
      "execution_count": null,
      "outputs": []
    },
    {
      "metadata": {
        "trusted": true,
        "_uuid": "b12a40d3cf62714f6034efd766639edcb659bfff"
      },
      "cell_type": "code",
      "source": "prediction",
      "execution_count": null,
      "outputs": []
    },
    {
      "metadata": {
        "trusted": true,
        "_uuid": "276cb81d0b10bba04ec7f22b1d90e274356feb07"
      },
      "cell_type": "code",
      "source": "print('총 {}명 중 {:.2f}% 정확도로 생존 맞춤'.format(y_vid.shape[0], 100 * metrics.accuracy_score(prediction, y_vid)))",
      "execution_count": 246,
      "outputs": [
        {
          "output_type": "stream",
          "text": "총 268명 중 82.09% 정확도로 생존 맞춤\n",
          "name": "stdout"
        }
      ]
    },
    {
      "metadata": {
        "trusted": true,
        "_uuid": "4533db09c8bea43f15d2a6db0a13773efcabdfef"
      },
      "cell_type": "code",
      "source": "(prediction == y_vid).sum()/prediction.shape[0]",
      "execution_count": 244,
      "outputs": [
        {
          "output_type": "execute_result",
          "execution_count": 244,
          "data": {
            "text/plain": "0.8208955223880597"
          },
          "metadata": {}
        }
      ]
    },
    {
      "metadata": {
        "trusted": true,
        "_uuid": "c19368226f967c67268ee2962ab3dc228229319b"
      },
      "cell_type": "code",
      "source": "",
      "execution_count": null,
      "outputs": []
    }
  ],
  "metadata": {
    "kernelspec": {
      "display_name": "Python 3",
      "language": "python",
      "name": "python3"
    },
    "language_info": {
      "name": "python",
      "version": "3.6.6",
      "mimetype": "text/x-python",
      "codemirror_mode": {
        "name": "ipython",
        "version": 3
      },
      "pygments_lexer": "ipython3",
      "nbconvert_exporter": "python",
      "file_extension": ".py"
    }
  },
  "nbformat": 4,
  "nbformat_minor": 1
}