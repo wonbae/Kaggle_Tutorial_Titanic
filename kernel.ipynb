{
  "cells": [
    {
      "metadata": {
        "_uuid": "8f2839f25d086af736a60e9eeb907d3b93b6e0e5",
        "_cell_guid": "b1076dfc-b9ad-4769-8c92-a6c4dae69d19",
        "trusted": true
      },
      "cell_type": "code",
      "source": "## import numpy as np\nimport pandas as pd\nfrom pandas import Series\nimport matplotlib.pyplot as plt\nimport seaborn as sns\n\nplt.style.use('seaborn')\nsns.set(font_scale=2.5) \n# 이 두줄은 본 필자가 항상 쓰는 방법입니다. matplotlib 의 기본 scheme 말고 \n# seaborn scheme 을 세팅하고, 일일이 graph 의 font size 를 지정할 필요 없이 seaborn 의 font_scale 을 사용하면 편합니다.\nimport plotly.offline as py\npy.init_notebook_mode(connected=True)\nimport plotly.graph_objs as go\nimport plotly.tools as tls\n\n#ignore warnings\nimport warnings\nwarnings.filterwarnings('ignore')\n\n\n\n%matplotlib inline\n\ndf_train = pd.read_csv('../input/train.csv')\ndf_test = pd.read_csv('../input/test.csv')\n\n",
      "execution_count": null,
      "outputs": []
    },
    {
      "metadata": {
        "trusted": true,
        "_uuid": "9e83e49f9701bed6a886b1328a79e53c6f1d66a8"
      },
      "cell_type": "code",
      "source": "for col in df_train.columns:\n    msg = 'colums: {:<10} \\t Percent of NaN value: {:2f}%'.format(col, 100 * (df_train[col].isnull().sum() / df_train[col].shape[0]))\n    print(msg)\n",
      "execution_count": null,
      "outputs": []
    },
    {
      "metadata": {
        "trusted": true,
        "_uuid": "da2b198b53713a57e90c244fb4281768ba64ea38"
      },
      "cell_type": "code",
      "source": "for col in df_test.columns:\n    msg = 'colums: {:>10} \\t Percent of NaN value: {:2f}%'.format(col, 100 * (df_test[col].isnull().sum() / df_test[col].shape[0]))\n    print(msg)\n",
      "execution_count": null,
      "outputs": []
    },
    {
      "metadata": {
        "trusted": true,
        "_uuid": "4ff072841ccd1acbafcd884f0d3e0650058d9d0d"
      },
      "cell_type": "code",
      "source": "msno.matrix(df=df_train.iloc[:, :], figsize=(8, 8), color=(0.2, 0.5, 0.2))",
      "execution_count": null,
      "outputs": []
    },
    {
      "metadata": {
        "trusted": true,
        "_uuid": "368dc9cdedb3de08622096875e27e3d87c2c7d2a"
      },
      "cell_type": "code",
      "source": "msno.bar(df=df_train.iloc[:, :], figsize=(8, 8), color=(0.2, 0.3, 0.2))",
      "execution_count": null,
      "outputs": []
    },
    {
      "metadata": {
        "trusted": true,
        "_uuid": "1f17c096805d4c42bb1cda20c7deb666adfd001c"
      },
      "cell_type": "code",
      "source": "f, ax = plt.subplots(1,2,figsize=(18,8))#도화지\n\ndf_train['Survived'].value_counts().plot.pie(explode=[0, 0.1], autopct = '%1.1f%%', ax=ax[0], shadow=True)\nax[0].set_title('Pie plot - Survived')\nax[0].set_ylabel('')\n\nsns.countplot('Survived', data = df_train, ax=ax[1])\nax[1].set_title('Count plot - Survived')\nplt.show()",
      "execution_count": null,
      "outputs": []
    },
    {
      "metadata": {
        "trusted": true,
        "_uuid": "fd6e7bd17d3901b203ff27a3a88770f31d188fa3"
      },
      "cell_type": "code",
      "source": "df_train['Survived'].value_counts().plot().pie(explode)",
      "execution_count": null,
      "outputs": []
    },
    {
      "metadata": {
        "trusted": true,
        "_uuid": "827540e5b6d65994f8fe97ccca2c94a09e091d37"
      },
      "cell_type": "code",
      "source": "plt.plot(df_train['Survived'].value_counts())",
      "execution_count": null,
      "outputs": []
    },
    {
      "metadata": {
        "trusted": true,
        "_uuid": "daf723559d8d20f37ccd8ae28d41621d52977124"
      },
      "cell_type": "markdown",
      "source": "2.1 Pclass"
    },
    {
      "metadata": {
        "trusted": true,
        "_uuid": "a093e2ce3c8981c900774f0d7d6a6a9017e2d394"
      },
      "cell_type": "code",
      "source": "df_train[['Pclass', 'Survived']].groupby(['Pclass'], as_index = True).count()",
      "execution_count": null,
      "outputs": []
    },
    {
      "metadata": {
        "trusted": true,
        "_uuid": "cda661c200e8180deb45b147393252d247d05485"
      },
      "cell_type": "code",
      "source": "df_train[['Pclass', 'Survived']].groupby(['Pclass']).sum()",
      "execution_count": null,
      "outputs": []
    },
    {
      "metadata": {
        "trusted": true,
        "_uuid": "50ed78593e8f27edd23826de628f3eb500a96db0"
      },
      "cell_type": "code",
      "source": "pd.crosstab(df_train['Pclass'], df_train[\"Survived\"], margins=True).style.background_gradient(cmap='cool')",
      "execution_count": null,
      "outputs": []
    },
    {
      "metadata": {
        "trusted": true,
        "_uuid": "96dec0ddb6f301cfe0f34a913bce3c3d3d6256d5"
      },
      "cell_type": "code",
      "source": "df_train[['Pclass', 'Survived']].groupby(['Pclass'], as_index=True).mean().sort_values(by='Survived', ascending=False).plot().bar()",
      "execution_count": null,
      "outputs": []
    },
    {
      "metadata": {
        "trusted": true,
        "_uuid": "88ba6ee81a145af70807df9635643ff43619f827"
      },
      "cell_type": "code",
      "source": "y_position = 1.02\nf, ax = plt.subplots(1,2, figsize=(18,8))\ndf_train['Pclass'].value_counts().plot.bar(color=['#CD7F32', '#FFDF00', '#D3D3D3'], ax=ax[0])\nax[0].set_title('Number of passengers by Pclass', y = y_position)\nax[0].set_ylabel('Count')\nsns.countplot('Pclass', hue='Survived', data = df_train, ax=ax[1])\nax[1].set_title('Pclass : Survived vs Dead', y = y_position)\nplt.show()",
      "execution_count": null,
      "outputs": []
    },
    {
      "metadata": {
        "_uuid": "4a55f8296ddabd48a299a3ebac14195665f6741c"
      },
      "cell_type": "markdown",
      "source": "2.2 Sex"
    },
    {
      "metadata": {
        "trusted": true,
        "_uuid": "0a613379e213692918b3e80fce1d449e20587b9a"
      },
      "cell_type": "code",
      "source": "f, ax = plt.subplots(1,2, figsize=(18,8))\ndf_train[['Sex','Survived']].groupby(['Sex'], as_index=True).mean().plot.bar(ax=ax[0])\nax[0].set_title('Survived vs Sex')\n\nsns.countplot('Sex', hue='Survived', data = df_train, ax=ax[1])\nax[1].set_title('Sex: Survived vs Dead')\nplt.show()",
      "execution_count": null,
      "outputs": []
    },
    {
      "metadata": {
        "trusted": true,
        "_uuid": "1ed56f5df5275d6d13c9d4db33c489c7b1402e6e"
      },
      "cell_type": "code",
      "source": "pd.crosstab(df_train['Sex'], df_train['Survived'], margins=True).style.background_gradient(cmap='summer_r')",
      "execution_count": null,
      "outputs": []
    },
    {
      "metadata": {
        "_uuid": "4e39ebd2103874970e023855bf078dd944500fec"
      },
      "cell_type": "markdown",
      "source": "2.2 Both Pclass and Sex\n"
    },
    {
      "metadata": {
        "trusted": true,
        "_uuid": "907f152ef09c194de4abccdc2e0d0accae2ffa78"
      },
      "cell_type": "code",
      "source": "sns.factorplot('Pclass','Survived',hue='Sex',data = df_train, size=6, aspect=1.5)",
      "execution_count": null,
      "outputs": []
    },
    {
      "metadata": {
        "_uuid": "e3e800d815f0d26e81a2d739f19e5cb709097394"
      },
      "cell_type": "markdown",
      "source": "1. Lady first\n2. Money brings survival?"
    },
    {
      "metadata": {
        "trusted": true,
        "_uuid": "7bc98cb42be016d69367c0a9210f5689a8ec540b"
      },
      "cell_type": "code",
      "source": "sns.factorplot(x='Sex', y='Survived', col = 'Pclass', data=df_train, saturation = 5,size=9, aspect = 1)",
      "execution_count": null,
      "outputs": []
    },
    {
      "metadata": {
        "trusted": true,
        "_uuid": "04d907390d9eee722019dda9f09d5ab08ef74a7b"
      },
      "cell_type": "code",
      "source": "sns.factorplot(x='Sex', y='Survived', hue = 'Pclass', data=df_train, saturation = 5,size=9, aspect = 1)",
      "execution_count": null,
      "outputs": []
    },
    {
      "metadata": {
        "_uuid": "34d56c1ee455df4fc08d1ddfc5494227524cb15a"
      },
      "cell_type": "markdown",
      "source": "2.3. Age"
    },
    {
      "metadata": {
        "trusted": true,
        "_uuid": "d66feb9fcceeeb9f80b1beb87fc8a613a983184c"
      },
      "cell_type": "code",
      "source": "print('제일 나이 많은 탑승객 : {:.1f} years'.format(df_train['Age'].max()))\nprint('제일 어린 탑승객: {:.1f} Years'.format(df_train['Age'].min()))\nprint('탑승객 평균 나이 : {:.1f} Years'.format(df_train['Age'].mean()))",
      "execution_count": null,
      "outputs": []
    }
  ],
  "metadata": {
    "kernelspec": {
      "display_name": "Python 3",
      "language": "python",
      "name": "python3"
    },
    "language_info": {
      "name": "python",
      "version": "3.6.6",
      "mimetype": "text/x-python",
      "codemirror_mode": {
        "name": "ipython",
        "version": 3
      },
      "pygments_lexer": "ipython3",
      "nbconvert_exporter": "python",
      "file_extension": ".py"
    }
  },
  "nbformat": 4,
  "nbformat_minor": 1
}